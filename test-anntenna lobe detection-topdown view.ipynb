{
 "cells": [
  {
   "cell_type": "code",
   "execution_count": 1,
   "id": "bd96d6c4",
   "metadata": {},
   "outputs": [],
   "source": [
    "import scanpy as sc\n",
    "import os, glob\n",
    "import numpy as np\n",
    "import nrrd\n",
    "import matplotlib.pyplot as plt\n",
    "import plotting_help_py37 as ph\n",
    "import orn_pn_matching_imaging as im\n",
    "import orn_pn_matching as opm\n",
    "import tifffile as tiff"
   ]
  },
  {
   "cell_type": "code",
   "execution_count": 2,
   "id": "ad36dcdd",
   "metadata": {},
   "outputs": [],
   "source": [
    "from PIL import Image\n",
    "from PIL.TiffTags import TAGS"
   ]
  },
  {
   "cell_type": "code",
   "execution_count": 3,
   "id": "f5281b81",
   "metadata": {},
   "outputs": [
    {
     "name": "stdout",
     "output_type": "stream",
     "text": [
      "Populating the interactive namespace from numpy and matplotlib\n"
     ]
    }
   ],
   "source": [
    "%pylab inline\n",
    "%load_ext autoreload\n",
    "%autoreload 2"
   ]
  },
  {
   "cell_type": "code",
   "execution_count": 4,
   "id": "a37e7d3e",
   "metadata": {},
   "outputs": [],
   "source": [
    "from skimage import measure"
   ]
  },
  {
   "cell_type": "markdown",
   "id": "2c1291ed",
   "metadata": {},
   "source": [
    "### Requirements:\n",
    "1. PN dendrite ROIs do not exceed the top and bottom slices of AL mask\n",
    "2. the centroids of left and right AL do not cross midline"
   ]
  },
  {
   "cell_type": "code",
   "execution_count": 37,
   "id": "6923abbe",
   "metadata": {
    "collapsed": true
   },
   "outputs": [
    {
     "ename": "IndexError",
     "evalue": "list index out of range",
     "output_type": "error",
     "traceback": [
      "\u001b[0;31m---------------------------------------------------------------------------\u001b[0m",
      "\u001b[0;31mIndexError\u001b[0m                                Traceback (most recent call last)",
      "\u001b[0;32m/var/folders/f0/npmkny_s0_7f6cbhklg7ys1r0000gn/T/ipykernel_74035/2926197239.py\u001b[0m in \u001b[0;36m<module>\u001b[0;34m\u001b[0m\n\u001b[1;32m      1\u001b[0m \u001b[0mfn\u001b[0m \u001b[0;34m=\u001b[0m \u001b[0;34m'#14_30h_20230728_20x_5.tif'\u001b[0m\u001b[0;34m\u001b[0m\u001b[0;34m\u001b[0m\u001b[0m\n\u001b[1;32m      2\u001b[0m \u001b[0mch_pn\u001b[0m \u001b[0;34m=\u001b[0m \u001b[0;36m0\u001b[0m\u001b[0;34m\u001b[0m\u001b[0;34m\u001b[0m\u001b[0m\n\u001b[0;32m----> 3\u001b[0;31m \u001b[0mrec\u001b[0m \u001b[0;34m=\u001b[0m \u001b[0mim\u001b[0m\u001b[0;34m.\u001b[0m\u001b[0mAntennaLobe\u001b[0m\u001b[0;34m(\u001b[0m\u001b[0mfolder\u001b[0m\u001b[0;34m=\u001b[0m\u001b[0;34m'./../../1_Data/confocal/3_pn/WT/test/'\u001b[0m\u001b[0;34m,\u001b[0m \u001b[0mfilename\u001b[0m\u001b[0;34m=\u001b[0m\u001b[0mfn\u001b[0m\u001b[0;34m[\u001b[0m\u001b[0;34m:\u001b[0m\u001b[0;34m-\u001b[0m\u001b[0;36m4\u001b[0m\u001b[0;34m]\u001b[0m\u001b[0;34m,\u001b[0m \u001b[0mch_pn\u001b[0m\u001b[0;34m=\u001b[0m\u001b[0mch_pn\u001b[0m\u001b[0;34m)\u001b[0m\u001b[0;34m\u001b[0m\u001b[0;34m\u001b[0m\u001b[0m\n\u001b[0m",
      "\u001b[0;32m~/Workfiles/Work_SF/2. Analysis/python_files/orn_pn_matching_imaging.py\u001b[0m in \u001b[0;36m__init__\u001b[0;34m(self, folder, filename, ch_pn)\u001b[0m\n\u001b[1;32m    237\u001b[0m         \u001b[0;31m# Initialize tif file\u001b[0m\u001b[0;34m\u001b[0m\u001b[0;34m\u001b[0m\u001b[0;34m\u001b[0m\u001b[0m\n\u001b[1;32m    238\u001b[0m         \u001b[0;32mif\u001b[0m \u001b[0mch_pn\u001b[0m \u001b[0;32mis\u001b[0m \u001b[0;32mnot\u001b[0m \u001b[0;32mNone\u001b[0m\u001b[0;34m:\u001b[0m\u001b[0;34m\u001b[0m\u001b[0;34m\u001b[0m\u001b[0m\n\u001b[0;32m--> 239\u001b[0;31m             \u001b[0mfn\u001b[0m \u001b[0;34m=\u001b[0m \u001b[0;34m(\u001b[0m\u001b[0mglob\u001b[0m\u001b[0;34m.\u001b[0m\u001b[0mglob\u001b[0m\u001b[0;34m(\u001b[0m\u001b[0mfolder\u001b[0m \u001b[0;34m+\u001b[0m \u001b[0mos\u001b[0m\u001b[0;34m.\u001b[0m\u001b[0mpath\u001b[0m\u001b[0;34m.\u001b[0m\u001b[0msep\u001b[0m \u001b[0;34m+\u001b[0m \u001b[0mfilename\u001b[0m \u001b[0;34m+\u001b[0m \u001b[0;34m'*.tif'\u001b[0m\u001b[0;34m)\u001b[0m\u001b[0;34m)\u001b[0m\u001b[0;34m[\u001b[0m\u001b[0;36m0\u001b[0m\u001b[0;34m]\u001b[0m\u001b[0;34m\u001b[0m\u001b[0;34m\u001b[0m\u001b[0m\n\u001b[0m\u001b[1;32m    240\u001b[0m             \u001b[0mtif_\u001b[0m \u001b[0;34m=\u001b[0m \u001b[0mtiff\u001b[0m\u001b[0;34m.\u001b[0m\u001b[0mimread\u001b[0m\u001b[0;34m(\u001b[0m\u001b[0mfn\u001b[0m\u001b[0;34m)\u001b[0m\u001b[0;34m\u001b[0m\u001b[0;34m\u001b[0m\u001b[0m\n\u001b[1;32m    241\u001b[0m             \u001b[0mtif\u001b[0m \u001b[0;34m=\u001b[0m \u001b[0mnp\u001b[0m\u001b[0;34m.\u001b[0m\u001b[0mswapaxes\u001b[0m\u001b[0;34m(\u001b[0m\u001b[0mnp\u001b[0m\u001b[0;34m.\u001b[0m\u001b[0mswapaxes\u001b[0m\u001b[0;34m(\u001b[0m\u001b[0mtif_\u001b[0m\u001b[0;34m.\u001b[0m\u001b[0mT\u001b[0m\u001b[0;34m,\u001b[0m \u001b[0;36m0\u001b[0m\u001b[0;34m,\u001b[0m \u001b[0;36m1\u001b[0m\u001b[0;34m)\u001b[0m\u001b[0;34m,\u001b[0m \u001b[0;36m2\u001b[0m\u001b[0;34m,\u001b[0m \u001b[0;36m3\u001b[0m\u001b[0;34m)\u001b[0m\u001b[0;34m[\u001b[0m\u001b[0;34m:\u001b[0m\u001b[0;34m,\u001b[0m \u001b[0;34m:\u001b[0m\u001b[0;34m,\u001b[0m \u001b[0;34m:\u001b[0m\u001b[0;34m,\u001b[0m \u001b[0mch_pn\u001b[0m\u001b[0;34m]\u001b[0m\u001b[0;34m\u001b[0m\u001b[0;34m\u001b[0m\u001b[0m\n",
      "\u001b[0;31mIndexError\u001b[0m: list index out of range"
     ]
    }
   ],
   "source": [
    "fn = '#14_30h_20230728_20x_5.tif'\n",
    "ch_pn = 0\n",
    "rec = im.AntennaLobe(folder='./../../1_Data/confocal/3_pn/WT/test/', filename=fn[:-4], ch_pn=ch_pn)"
   ]
  },
  {
   "cell_type": "code",
   "execution_count": 48,
   "id": "c628ecec",
   "metadata": {},
   "outputs": [],
   "source": [
    "gts = [\n",
    "    '#14_30h', \n",
    "      ]\n",
    "labels = ['DC4-30h',]\n",
    "colors = ph.colors_high_contrast()\n",
    "parent_folder = './../../1_Data/confocal/3_pn/WT/test/'\n",
    "\n",
    "recss = []\n",
    "for gt in gts:\n",
    "    recs = im.get_recs_AntennaLobe(gt, parent_folder=parent_folder, multifolders=True,)\n",
    "    recss.append(recs)"
   ]
  },
  {
   "cell_type": "code",
   "execution_count": 49,
   "id": "0bfdbcdd",
   "metadata": {},
   "outputs": [],
   "source": [
    "recs = recss[0]\n",
    "ys = []\n",
    "for rec in recs:\n",
    "    for i in range(2):\n",
    "        if len(rec.ds_pnden[i]):\n",
    "            hist, bin_edges = np.histogram(rec.ds_pnden[i], bins=np.linspace(0,20,20))\n",
    "            ys.append(hist)\n",
    "x = (bin_edges[1:]+bin_edges[:-1])/2."
   ]
  },
  {
   "cell_type": "code",
   "execution_count": 126,
   "id": "a43bf8c8",
   "metadata": {
    "collapsed": true
   },
   "outputs": [
    {
     "data": {
      "text/plain": [
       "[None,\n",
       " array([[[  0,   0,   0, ...,   0,   0,   0],\n",
       "         [  0,   0,   0, ...,   0,   0,   0],\n",
       "         [  0,   0,   0, ...,   0,   0,   0],\n",
       "         ...,\n",
       "         [  0,   0,   0, ...,   0,   0,   0],\n",
       "         [  0,   0,   0, ...,   0,   0,   0],\n",
       "         [  0,   0,   0, ...,   0,   0,   0]],\n",
       " \n",
       "        [[  0,   0,   0, ...,   0,   0,   0],\n",
       "         [  0,   0,   0, ...,   0,   0,   0],\n",
       "         [  0,   0,   0, ...,   0,   0,   0],\n",
       "         ...,\n",
       "         [  0,   0,   0, ...,   0,   0,   0],\n",
       "         [  0,   0,   0, ...,   0,   0,   0],\n",
       "         [  0,   0,   0, ...,   0,   0,   0]],\n",
       " \n",
       "        [[  0,   0,   0, ...,   0,   0,   0],\n",
       "         [  0,   0,   0, ...,   0,   0,   0],\n",
       "         [  0,   0, 255, ...,   0,   0,   0],\n",
       "         ...,\n",
       "         [  0,   0,   0, ...,   0,   0,   0],\n",
       "         [  0,   0,   0, ...,   0,   0,   0],\n",
       "         [  0,   0,   0, ...,   0,   0,   0]],\n",
       " \n",
       "        ...,\n",
       " \n",
       "        [[  0,   0,   0, ...,   0,   0,   0],\n",
       "         [  0,   0,   0, ...,   0,   0,   0],\n",
       "         [  0,   0,   0, ...,   0,   0,   0],\n",
       "         ...,\n",
       "         [  0,   0,   0, ...,   0,   0,   0],\n",
       "         [  0,   0,   0, ...,   0,   0,   0],\n",
       "         [  0,   0,   0, ...,   0,   0,   0]],\n",
       " \n",
       "        [[  0,   0,   0, ...,   0,   0,   0],\n",
       "         [  0,   0,   0, ...,   0,   0,   0],\n",
       "         [  0,   0,   0, ...,   0,   0,   0],\n",
       "         ...,\n",
       "         [  0,   0,   0, ...,   0,   0,   0],\n",
       "         [  0,   0,   0, ...,   0,   0,   0],\n",
       "         [  0,   0,   0, ...,   0,   0,   0]],\n",
       " \n",
       "        [[  0,   0,   0, ...,   0,   0,   0],\n",
       "         [  0,   0,   0, ...,   0,   0,   0],\n",
       "         [  0,   0,   0, ...,   0,   0,   0],\n",
       "         ...,\n",
       "         [  0,   0,   0, ...,   0,   0,   0],\n",
       "         [  0,   0,   0, ...,   0,   0,   0],\n",
       "         [  0,   0,   0, ...,   0,   0,   0]]], dtype=uint8)]"
      ]
     },
     "execution_count": 126,
     "metadata": {},
     "output_type": "execute_result"
    }
   ],
   "source": [
    "im.get_recs_AntennaLobe(genotype, parent_folder='./', ch_pn=0, multifolders=False"
   ]
  },
  {
   "cell_type": "code",
   "execution_count": 43,
   "id": "a48ae310",
   "metadata": {},
   "outputs": [
    {
     "ename": "TypeError",
     "evalue": "'numpy.ndarray' object is not callable",
     "output_type": "error",
     "traceback": [
      "\u001b[0;31m---------------------------------------------------------------------------\u001b[0m",
      "\u001b[0;31mTypeError\u001b[0m                                 Traceback (most recent call last)",
      "\u001b[0;32m/var/folders/f0/npmkny_s0_7f6cbhklg7ys1r0000gn/T/ipykernel_74035/4026225884.py\u001b[0m in \u001b[0;36m<module>\u001b[0;34m\u001b[0m\n\u001b[1;32m      1\u001b[0m \u001b[0mrec\u001b[0m \u001b[0;34m=\u001b[0m \u001b[0mrecss\u001b[0m\u001b[0;34m[\u001b[0m\u001b[0;36m0\u001b[0m\u001b[0;34m]\u001b[0m\u001b[0;34m[\u001b[0m\u001b[0;36m0\u001b[0m\u001b[0;34m]\u001b[0m\u001b[0;34m\u001b[0m\u001b[0;34m\u001b[0m\u001b[0m\n\u001b[0;32m----> 2\u001b[0;31m \u001b[0mhist\u001b[0m\u001b[0;34m(\u001b[0m\u001b[0mrec\u001b[0m\u001b[0;34m.\u001b[0m\u001b[0mds_pnden\u001b[0m\u001b[0;34m[\u001b[0m\u001b[0;36m1\u001b[0m\u001b[0;34m]\u001b[0m\u001b[0;34m,\u001b[0m \u001b[0mbins\u001b[0m\u001b[0;34m=\u001b[0m\u001b[0mnp\u001b[0m\u001b[0;34m.\u001b[0m\u001b[0mlinspace\u001b[0m\u001b[0;34m(\u001b[0m\u001b[0;36m0\u001b[0m\u001b[0;34m,\u001b[0m\u001b[0;36m20\u001b[0m\u001b[0;34m)\u001b[0m\u001b[0;34m)\u001b[0m\u001b[0;34m\u001b[0m\u001b[0;34m\u001b[0m\u001b[0m\n\u001b[0m",
      "\u001b[0;31mTypeError\u001b[0m: 'numpy.ndarray' object is not callable"
     ]
    }
   ],
   "source": [
    "rec = recss[0][0]\n",
    "hist(rec.ds_pnden[1], bins=np.linspace(0,20))"
   ]
  },
  {
   "cell_type": "code",
   "execution_count": 134,
   "id": "bcf47b85",
   "metadata": {},
   "outputs": [],
   "source": [
    "hist, bin_edges = np.histogram(rec.ds_pnden[1], bins=np.linspace(0,20,20))"
   ]
  },
  {
   "cell_type": "code",
   "execution_count": 47,
   "id": "0bb43161",
   "metadata": {
    "scrolled": true
   },
   "outputs": [
    {
     "data": {
      "text/plain": [
       "[<matplotlib.lines.Line2D at 0x7fd1d85e38d0>]"
      ]
     },
     "execution_count": 47,
     "metadata": {},
     "output_type": "execute_result"
    },
    {
     "data": {
      "image/png": "[encoded data removed]",
      "text/plain": [
       "<Figure size 288x216 with 1 Axes>"
      ]
     },
     "metadata": {
      "needs_background": "light"
     },
     "output_type": "display_data"
    }
   ],
   "source": [
    "ax = ph.large_ax([4,3])\n",
    "for y in ys:\n",
    "    ax.plot(x, y, lw=.5, c=ph.grey5)\n",
    "ax.plot(x, np.nanmean(ys, axis=0), lw=2, c='black')"
   ]
  },
  {
   "cell_type": "code",
   "execution_count": 50,
   "id": "86230720",
   "metadata": {
    "scrolled": true
   },
   "outputs": [
    {
     "data": {
      "text/plain": [
       "[<matplotlib.lines.Line2D at 0x7fd1e3108b50>]"
      ]
     },
     "execution_count": 50,
     "metadata": {},
     "output_type": "execute_result"
    },
    {
     "data": {
      "image/png": "[encoded data removed]",
      "text/plain": [
       "<Figure size 288x216 with 1 Axes>"
      ]
     },
     "metadata": {
      "needs_background": "light"
     },
     "output_type": "display_data"
    }
   ],
   "source": [
    "ax = ph.large_ax([4,3])\n",
    "for y in ys:\n",
    "    ax.plot(x, y, lw=.5, c=ph.grey5)\n",
    "ax.plot(x, np.nanmean(ys, axis=0), lw=2, c='black')"
   ]
  },
  {
   "cell_type": "code",
   "execution_count": 109,
   "id": "4c0026aa",
   "metadata": {},
   "outputs": [],
   "source": [
    "self = rec\n",
    "pnmask = self.pnmask\n",
    "ds = [[],[]]\n",
    "for i in range(2):\n",
    "    pnmask_bool = (pnmask == i+1)\n",
    "    if pnmask_bool.sum():\n",
    "        sig = self.tif * pnmask_bool\n",
    "        sig_sum = np.sum(sig)\n",
    "        x_pnc = np.sum(np.sum(np.sum(sig, axis=0), axis=1) * np.arange(self.X)) / sig_sum\n",
    "        side = 0 if (x_pnc < self.X/2.) else 1\n",
    "        if self.pndenmask[side] is not None:\n",
    "            pndenmask_bool = (self.pndenmask[side] > 1)\n",
    "            sig = pnmask_bool * pndenmask_bool\n",
    "            ds_ = []\n",
    "            for z in np.arange(self.ncadz[1][0], self.ncadz[1][1]+1):\n",
    "                if np.sum(sig[:,:,z]):\n",
    "                    ys, xs = np.nonzero(sig[:,:,z])     # notice flip of x and y axis here\n",
    "                    xs = xs * self.xf\n",
    "                    ys = ys * self.yf\n",
    "                    z0_, z1_ = z, z-1\n",
    "                    z0, z1 = (z0_, z1_) if (self.ncad[side][z0_].ab > self.ncad[side][z1_].ab) else (z1_, z0_)\n",
    "                    theta = np.arctan(self.zf / ((self.ncad[side][z0].ab - self.ncad[side][z1].ab)/2))\n",
    "                    for i in range(len(xs)):\n",
    "                        d0 = np.min(np.sqrt((self.ncad[side][z].xb-xs[i])**2+(self.ncad[side][z].yb-ys[i])**2))\n",
    "                        d_ = np.min([d0 * np.sin(theta), (self.ncadz[side][1]-z0)*self.zf])\n",
    "                        ds_.append(d_)\n",
    "            ds[side] = ds_"
   ]
  },
  {
   "cell_type": "code",
   "execution_count": 111,
   "id": "0b7cfac1",
   "metadata": {
    "collapsed": true
   },
   "outputs": [
    {
     "data": {
      "text/plain": [
       "[[],\n",
       " [1.9931708012930944,\n",
       "  2.1355120633197253,\n",
       "  1.9393721531781725,\n",
       "  2.085388759435433,\n",
       "  7.2403555393297685,\n",
       "  7.331669806905069,\n",
       "  8.383988290441795,\n",
       "  8.465467253459051,\n",
       "  7.354680204184356,\n",
       "  7.444592314385079,\n",
       "  8.34990946157173,\n",
       "  8.426706325396834,\n",
       "  8.505293252796353,\n",
       "  8.585621088842993,\n",
       "  8.258345091416617,\n",
       "  8.328380880839694,\n",
       "  8.400347307539707,\n",
       "  8.47419518431015,\n",
       "  8.549875759320905,\n",
       "  8.627340802437528,\n",
       "  8.706542682748749,\n",
       "  8.787434437604094,\n",
       "  8.076024915092692,\n",
       "  8.150219949188573,\n",
       "  8.22631353369461,\n",
       "  8.304253478349814,\n",
       "  8.383988290441795,\n",
       "  8.455481443727413,\n",
       "  8.52637515220695,\n",
       "  8.599140792583164,\n",
       "  8.673731252967531,\n",
       "  8.750099866303577,\n",
       "  8.828200486815433,\n",
       "  8.907987558594412,\n",
       "  8.201885886245664,\n",
       "  8.27495250028357,\n",
       "  8.349909461571725,\n",
       "  8.426706325396829,\n",
       "  8.505293252796347,\n",
       "  8.583160672948118,\n",
       "  8.653008374467037,\n",
       "  8.724717936019042,\n",
       "  8.79824383278449,\n",
       "  8.873540914579165,\n",
       "  8.950564480960562,\n",
       "  9.029270349064616,\n",
       "  9.109614914402481,\n",
       "  8.25834509141661,\n",
       "  8.328380880839688,\n",
       "  8.400347307539704,\n",
       "  8.474195184310146,\n",
       "  8.549875759320901,\n",
       "  8.627340802437521,\n",
       "  8.706542682748744,\n",
       "  8.780220781083104,\n",
       "  8.850899733872218,\n",
       "  8.923385992833506,\n",
       "  8.997635878311444,\n",
       "  9.073606094811463,\n",
       "  9.151253797839088,\n",
       "  9.230536654207656,\n",
       "  8.285155898117921,\n",
       "  8.375166353683206,\n",
       "  8.45548144372741,\n",
       "  8.526375152206946,\n",
       "  8.599140792583158,\n",
       "  8.673731252967526,\n",
       "  8.75009986630357,\n",
       "  8.828200486815428,\n",
       "  8.907987558594407,\n",
       "  8.977660690768417,\n",
       "  9.049131613398401,\n",
       "  9.12235807114512,\n",
       "  9.197298132783827,\n",
       "  9.273910256842768,\n",
       "  9.352153351190312,\n",
       "  8.400347307539702,\n",
       "  8.489136474520748,\n",
       "  8.579468726111767,\n",
       "  8.653008374467037,\n",
       "  8.724717936019042,\n",
       "  8.79824383278449,\n",
       "  8.873540914579165,\n",
       "  8.950564480960562,\n",
       "  9.029270349064616,\n",
       "  9.1049766173022,\n",
       "  9.175455884023295,\n",
       "  9.247682115062016,\n",
       "  9.321614702741165,\n",
       "  9.397213372858193,\n",
       "  8.430465171613982,\n",
       "  8.516460759141856,\n",
       "  8.60405178144298,\n",
       "  8.693190012707843,\n",
       "  8.780220781083104,\n",
       "  8.850899733872218,\n",
       "  8.923385992833506,\n",
       "  8.997635878311444,\n",
       "  9.073606094811463,\n",
       "  9.151253797839088,\n",
       "  9.230536654207661,\n",
       "  9.302335230803678,\n",
       "  9.373583869995056,\n",
       "  9.44653114814924,\n",
       "  9.521138022401441,\n",
       "  8.544933634191601,\n",
       "  8.633459050708403,\n",
       "  8.71987490598391,\n",
       "  8.80784104734521,\n",
       "  8.897311492700066,\n",
       "  8.977660690768417,\n",
       "  9.049131613398401,\n",
       "  9.12235807114512,\n",
       "  9.197298132783827,\n",
       "  9.273910256842768,\n",
       "  9.352153351190319,\n",
       "  9.429747247746734,\n",
       "  9.500040367175673,\n",
       "  9.572023983624867,\n",
       "  9.645660249653949,\n",
       "  8.654228740931684,\n",
       "  8.750099866303573,\n",
       "  8.836570151241142,\n",
       "  8.923385992833506,\n",
       "  9.011709352832607,\n",
       "  9.101496343256224,\n",
       "  9.175455884023295,\n",
       "  9.247682115062016,\n",
       "  9.321614702741165,\n",
       "  9.397213372858193,\n",
       "  9.474438243359428,\n",
       "  9.55324987755375,\n",
       "  9.627029746066297,\n",
       "  9.698070833767286,\n",
       "  8.671295837714423,\n",
       "  8.764570824149876,\n",
       "  8.859247953492273,\n",
       "  8.954103419279122,\n",
       "  9.039790571823959,\n",
       "  9.126987535067133,\n",
       "  9.215651452374193,\n",
       "  9.302335230803672,\n",
       "  9.373583869995048,\n",
       "  9.446531148149237,\n",
       "  9.521138022401438,\n",
       "  9.597365789310375,\n",
       "  9.675176137392757,\n",
       "  9.754531194725121,\n",
       "  8.783828349864145,\n",
       "  8.87592083708799,\n",
       "  8.969422683549405,\n",
       "  9.064290275009444,\n",
       "  9.1570220012469,\n",
       "  9.243113101880411,\n",
       "  9.330673611295651,\n",
       "  9.419662552896838,\n",
       "  9.500040367175666,\n",
       "  9.572023983624861,\n",
       "  9.645660249653943,\n",
       "  8.897311492700075,\n",
       "  8.988241319886141,\n",
       "  9.080586687787655,\n",
       "  9.174304851479842,\n",
       "  9.269354171941483,\n",
       "  9.360054514081527,\n",
       "  9.446531148149235,\n",
       "  9.534438803771918,\n",
       "  9.623738266200503,\n",
       "  9.69807083376728,\n",
       "  9.011709352832614,\n",
       "  9.101496343256233,\n",
       "  9.192704077485818,\n",
       "  9.285290688485988,\n",
       "  9.379215341737654,\n",
       "  9.474438243359426,\n",
       "  9.5631937013176,\n",
       "  9.650038670328662,\n",
       "  9.738278146176498,\n",
       "  9.126987535067146,\n",
       "  9.215651452374205,\n",
       "  9.305740392981345,\n",
       "  9.39721337285819,\n",
       "  9.490030370448096,\n",
       "  9.584152337717294,\n",
       "  9.679541206930146,\n",
       "  9.766432906560496,\n",
       "  9.853630124568706,\n",
       "  9.243113101880422,\n",
       "  9.330673611295664,\n",
       "  9.419662552896842,\n",
       "  9.510039827671978,\n",
       "  9.60176623236109,\n",
       "  9.694803473070216,\n",
       "  9.789114174711683,\n",
       "  9.883593447800203,\n",
       "  9.969766013044604,\n",
       "  9.36005451408154,\n",
       "  9.446531148149248,\n",
       "  9.534438803771922,\n",
       "  9.623738266200506,\n",
       "  9.714391152992263,\n",
       "  9.806359929855676,\n",
       "  9.899607922436418,\n",
       "  9.99409932438111,\n",
       "  10.086658734261453,\n",
       "  9.477781572844197,\n",
       "  9.563193701317607,\n",
       "  9.650038670328662,\n",
       "  9.738278146176498,\n",
       "  9.82787456723483,\n",
       "  9.918791161721565,\n",
       "  10.010991961535716,\n",
       "  10.104441812468504,\n",
       "  10.199106381087175,\n",
       "  9.513370645529408,\n",
       "  9.596265363257425,\n",
       "  9.680632166776604,\n",
       "  9.766432906560496,\n",
       "  9.853630124568706,\n",
       "  9.942187077741513,\n",
       "  10.032067757414469,\n",
       "  10.123236904935192,\n",
       "  9.553249877553753,\n",
       "  9.694803473070222,\n",
       "  9.798818646728863,\n",
       "  9.883593447800203,\n",
       "  9.969766013044604,\n",
       "  10.057300413722446,\n",
       "  10.146161402836361,\n",
       "  9.37921534173766,\n",
       "  9.510039827671983,\n",
       "  9.623738266200514,\n",
       "  9.738278146176508,\n",
       "  9.853630124568706,\n",
       "  9.969766013044604,\n",
       "  10.086658734261453,\n",
       "  9.192704077485823,\n",
       "  9.30574039298135,\n",
       "  9.419662552896847,\n",
       "  9.534438803771927,\n",
       "  9.650038670328673,\n",
       "  9.766432906560496,\n",
       "  9.883593447800203,\n",
       "  8.98824131988614,\n",
       "  9.10149634325623,\n",
       "  9.215651452374201,\n",
       "  9.33067361129566,\n",
       "  9.446531148149244,\n",
       "  9.563193701317608,\n",
       "  9.680632166776597,\n",
       "  9.798818646728856,\n",
       "  8.783828349864141,\n",
       "  8.897311492700071,\n",
       "  9.011709352832613,\n",
       "  9.126987535067142,\n",
       "  9.24311310188042,\n",
       "  9.360054514081538,\n",
       "  9.4777815728442,\n",
       "  9.596265363257418,\n",
       "  2.1457901682370295,\n",
       "  8.693190012707854,\n",
       "  8.807841047345219,\n",
       "  8.923385992833513,\n",
       "  9.039790571823971,\n",
       "  9.157022001246913,\n",
       "  9.275048928374702,\n",
       "  9.39384136866871,\n",
       "  9.513370645529404,\n",
       "  1.94982330450746,\n",
       "  2.080826809967189,\n",
       "  2.213619626516317,\n",
       "  8.489136474520757,\n",
       "  8.604051781442989,\n",
       "  8.719874905983916,\n",
       "  8.836570151241151,\n",
       "  8.954103419279134,\n",
       "  9.072442140461892,\n",
       "  9.191555204885267,\n",
       "  9.311412896033573,\n",
       "  1.8893062296298455,\n",
       "  2.024230056983637,\n",
       "  2.16050433033956,\n",
       "  8.400347307539711,\n",
       "  8.516460759141864,\n",
       "  8.633459050708412,\n",
       "  8.751306693406248,\n",
       "  8.869969833511117,\n",
       "  8.989416176609007,\n",
       "  9.109614914402496,\n",
       "  9.230536654207668,\n",
       "  1.976718689560039,\n",
       "  2.116054917878071,\n",
       "  8.313150668373744,\n",
       "  8.430465171613982,\n",
       "  8.54864049589478,\n",
       "  8.667641431776593,\n",
       "  8.787434437604096,\n",
       "  8.907987558594414,\n",
       "  9.029270349064621,\n",
       "  9.151253797839095,\n",
       "  8.227597190335597,\n",
       "  8.3461143354936,\n",
       "  8.465467253459053,\n",
       "  8.585621088842995,\n",
       "  8.70654268274875,\n",
       "  8.828200486815433,\n",
       "  8.143738659933522,\n",
       "  8.263458618278996,\n",
       "  8.383988290441797,\n",
       "  8.505293252796355,\n",
       "  8.62734080243753,\n",
       "  7.941524973740524,\n",
       "  8.061627970808116,\n",
       "  8.18254938967247,\n",
       "  8.304253478349821,\n",
       "  8.42670632539684,\n",
       "  8.54864049589478,\n",
       "  7.859989022289187,\n",
       "  7.981319067778073,\n",
       "  8.103438963575366,\n",
       "  8.226313533694615,\n",
       "  8.3461143354936,\n",
       "  8.465467253459053,\n",
       "  8.585621088842995,\n",
       "  7.658556914222269,\n",
       "  7.780313508851094,\n",
       "  7.902866880264539,\n",
       "  8.024864654941199,\n",
       "  8.143738659933522,\n",
       "  8.263458618278996,\n",
       "  8.383988290441797,\n",
       "  7.457348407667526,\n",
       "  7.57955059468754,\n",
       "  7.7025561669524585,\n",
       "  7.822278096623469,\n",
       "  7.941524973740521,\n",
       "  8.061627970808113,\n",
       "  8.182549389672467,\n",
       "  7.379050130330472,\n",
       "  7.501120022919634,\n",
       "  7.6198491585326344,\n",
       "  7.739485974073302,\n",
       "  7.859989022289183,\n",
       "  7.98131906777807,\n",
       "  7.298465263789898,\n",
       "  7.417590745231916,\n",
       "  7.537635707852617,\n",
       "  7.658556914222266,\n",
       "  6.97741362772884,\n",
       "  7.0959758668088835,\n",
       "  7.215517196694514,\n",
       "  7.335989754136567,\n",
       "  6.774681266202075,\n",
       "  6.893666403663941,\n",
       "  7.01364449162651,\n",
       "  7.134565436547841,\n",
       "  6.691553194495305,\n",
       "  6.811990485983956,\n",
       "  6.933382071619441,\n",
       "  7.0556786962356846,\n",
       "  6.610575193917208,\n",
       "  6.732461260253129,\n",
       "  6.855261278078838,\n",
       "  6.978927002354109,\n",
       "  6.4094211201024605,\n",
       "  6.53182723115431,\n",
       "  6.65515568593437,\n",
       "  6.779356147448114,\n",
       "  6.904381557199945,\n",
       "  6.331507247217928,\n",
       "  6.455390918016247,\n",
       "  6.580152135838673,\n",
       "  6.705741920227784,\n",
       "  6.832114578529872,\n",
       "  6.255999623711069,\n",
       "  6.381349322416581,\n",
       "  6.507530207465974,\n",
       "  6.634494854244753,\n",
       "  6.762199116002153,\n",
       "  6.30978674667763,\n",
       "  6.437370504711087,\n",
       "  6.565692011116743,\n",
       "  6.694708843430192,\n",
       "  6.369754388695741,\n",
       "  6.4994110150248705,\n",
       "  6.304763696859323,\n",
       "  6.43572978326104,\n",
       "  2.827773549701185,\n",
       "  2.9377700414371057,\n",
       "  2.3948443730770483,\n",
       "  2.4907887068901093,\n",
       "  2.5938242254320585,\n",
       "  2.7636657314490853,\n",
       "  2.8568766170860225,\n",
       "  2.956482141714067,\n",
       "  3.061858295586184,\n",
       "  2.3600505957278863,\n",
       "  2.4517369691773334,\n",
       "  2.534682634609104,\n",
       "  2.6255218279994263,\n",
       "  2.723464815151531,\n",
       "  2.822893867808791,\n",
       "  2.9047338260200326,\n",
       "  2.9935554663463053,\n",
       "  3.0887565425447776,\n",
       "  3.1897659078824114,\n",
       "  3.296049610369821,\n",
       "  2.4907887068901067,\n",
       "  2.593824225432055,\n",
       "  2.6775174068665746,\n",
       "  2.7636657314490853,\n",
       "  2.8568766170860305,\n",
       "  2.956482141714076,\n",
       "  3.0483201675379115,\n",
       "  3.133073821965456,\n",
       "  3.2241579091146497,\n",
       "  3.3210516091868074,\n",
       "  3.423261643201178,\n",
       "  2.113504302173831,\n",
       "  2.625521827999418,\n",
       "  2.7234648151515226,\n",
       "  2.822893867808785,\n",
       "  2.904733826020027,\n",
       "  2.993555466346307,\n",
       "  3.08875654254478,\n",
       "  3.1897659078824145,\n",
       "  3.27506881403017,\n",
       "  3.3623084905544145,\n",
       "  3.4553303682325427,\n",
       "  3.5536804077688506,\n",
       "  2.113504302173831,\n",
       "  2.234008989546417,\n",
       "  2.3483381135264816,\n",
       "  2.4685490767781864,\n",
       "  2.7636657314490773,\n",
       "  2.8568766170860225,\n",
       "  2.956482141714067,\n",
       "  3.0483201675379052,\n",
       "  3.1330738219654575,\n",
       "  3.224157909114652,\n",
       "  3.32105160918681,\n",
       "  3.4192319047317024,\n",
       "  3.5028830222199123,\n",
       "  3.592266559615564,\n",
       "  2.113504302173846,\n",
       "  2.234008989546417,\n",
       "  2.3483381135264816,\n",
       "  2.4685490767781864,\n",
       "  2.5831719248791316,\n",
       "  2.9935554663463053,\n",
       "  3.0887565425447776,\n",
       "  3.1897659078824114,\n",
       "  3.275068814030177,\n",
       "  3.362308490554422,\n",
       "  3.4553303682325507,\n",
       "  3.5536804077688506,\n",
       "  5.274620423547136,\n",
       "  5.355034813733142,\n",
       "  2.3483381135264865,\n",
       "  2.4685490767781864,\n",
       "  2.5831719248791316,\n",
       "  3.2241579091146497,\n",
       "  3.3210516091868074,\n",
       "  3.4192319047317095,\n",
       "  3.50288302221992,\n",
       "  3.592266559615572,\n",
       "  5.421559536028476,\n",
       "  5.499825910562504,\n",
       "  1.6438366794685462,\n",
       "  1.7651631428636458,\n",
       "  1.8786704908211962,\n",
       "  1.9995378526536713,\n",
       "  2.113504302173846,\n",
       "  1.6438366794685362,\n",
       "  1.7651631428636358,\n",
       "  1.8786704908211962,\n",
       "  1.9995378526536713,\n",
       "  2.113504302173846,\n",
       "  2.234008989546432,\n",
       "  2.3483381135264962,\n",
       "  2.468549076778201,\n",
       "  1.7651631428636358,\n",
       "  1.8786704908211862,\n",
       "  1.9995378526536614,\n",
       "  2.113504302173846,\n",
       "  2.234008989546432,\n",
       "  2.3483381135264962,\n",
       "  2.468549076778201,\n",
       "  2.583171924879147,\n",
       "  2.7031401668170147,\n",
       "  1.9995378526536567,\n",
       "  2.113504302173831,\n",
       "  2.234008989546417,\n",
       "  2.3483381135264914,\n",
       "  2.4685490767781957,\n",
       "  2.583171924879142,\n",
       "  2.7031401668170196,\n",
       "  2.8180057362317816,\n",
       "  5.987110932692604,\n",
       "  6.080790175539092,\n",
       "  6.164107977606286,\n",
       "  2.583171924879142,\n",
       "  2.7031401668170196,\n",
       "  2.818005736231792,\n",
       "  2.9377700414371057,\n",
       "  6.123716591172368,\n",
       "  6.217555000725149,\n",
       "  6.312182581687744,\n",
       "  6.388170319133989,\n",
       "  6.467529514963274,\n",
       "  6.550137628060353,\n",
       "  2.70314016681701,\n",
       "  2.818005736231792,\n",
       "  2.937770041437115,\n",
       "  6.355715391213351,\n",
       "  6.448315818229294,\n",
       "  6.535387420053357,\n",
       "  6.612980170153868,\n",
       "  6.693793517166429,\n",
       "  6.484560563580134,\n",
       "  6.585822025961869,\n",
       "  6.6793605557806774,\n",
       "  6.759380323204923,\n",
       "  6.838463809463419,\n",
       "  6.6129801701538655,\n",
       "  6.718463601463191,\n",
       "  6.8162511117983,\n",
       "  6.90666959507735,\n",
       "  6.9840854673448085,\n",
       "  7.064556720257995,\n",
       "  6.743043428446255,\n",
       "  6.846523286402356,\n",
       "  6.952429392920264,\n",
       "  7.046971017284479,\n",
       "  7.130600204468584,\n",
       "  7.2094362549739515,\n",
       "  7.291202224054185,\n",
       "  6.874657049186571,\n",
       "  6.976184915644661,\n",
       "  7.080151787183664,\n",
       "  7.184533119231134,\n",
       "  7.277954084474025,\n",
       "  7.3552109075319985,\n",
       "  7.4353739819727656,\n",
       "  7.007733679935571,\n",
       "  7.1073608155377075,\n",
       "  7.2094362549739435,\n",
       "  7.3138574901196325,\n",
       "  7.414949642279986,\n",
       "  7.50182849663846,\n",
       "  7.580441250382244,\n",
       "  7.661846724319862,\n",
       "  7.14219154271506,\n",
       "  7.239968678535013,\n",
       "  7.3402002573812615,\n",
       "  7.442787118392293,\n",
       "  7.547633223726958,\n",
       "  7.645634969816179,\n",
       "  7.726353588087359,\n",
       "  7.806237598524956,\n",
       "  7.8888084043189455,\n",
       "  7.3739312506321655,\n",
       "  7.472366120670316,\n",
       "  7.573162860561489,\n",
       "  7.676228429560224,\n",
       "  7.781472676296162,\n",
       "  7.87306400994927,\n",
       "  7.951474239487465,\n",
       "  8.032552220599708,\n",
       "  7.509176028758792,\n",
       "  7.605860765434612,\n",
       "  7.7049113073690805,\n",
       "  7.806237598524954,\n",
       "  7.909752180301212,\n",
       "  8.013650049909344,\n",
       "  8.097511138417484,\n",
       "  8.177141262826748,\n",
       "  8.259342512973227,\n",
       "  7.645634969816184,\n",
       "  7.740615443488199,\n",
       "  7.837963237679438,\n",
       "  7.9375912533598685,\n",
       "  8.039414718408935,\n",
       "  8.143351278354617,\n",
       "  8.24430576891178,\n",
       "  8.322531478266736,\n",
       "  8.403310640522808,\n",
       "  7.876565483998268,\n",
       "  7.972253388782823,\n",
       "  8.070223744429887,\n",
       "  8.170394445454582,\n",
       "  8.27268556288855,\n",
       "  8.377019420383876,\n",
       "  8.46868160342636,\n",
       "  8.54807976182927,\n",
       "  8.107720234052133,\n",
       "  8.204073048422906,\n",
       "  8.302629022967018,\n",
       "  8.403310640522808,\n",
       "  8.506042421019766,\n",
       "  8.610750985495168,\n",
       "  8.693609861675458,\n",
       "  8.339080572911667,\n",
       "  8.436059442101385,\n",
       "  8.535167247264548,\n",
       "  8.636330695720345,\n",
       "  8.739478402734324,\n",
       "  8.839863356319537,\n",
       "  8.919048749263478,\n",
       "  9.000601310136469,\n",
       "  9.08445728787783,\n",
       "  9.170553495044745,\n",
       "  9.505694435800205,\n",
       "  8.570629851258076,\n",
       "  8.668199182955222,\n",
       "  8.767827839462267,\n",
       "  8.869446425142202,\n",
       "  8.972987332735991,\n",
       "  9.064706792945536,\n",
       "  9.144960502613715,\n",
       "  9.227504693339972,\n",
       "  9.312278456737209,\n",
       "  9.39922146589637,\n",
       "  9.488274089268112,\n",
       "  9.579377492308183,\n",
       "  9.653926301404791,\n",
       "  8.70628738917103,\n",
       "  8.802353158726822,\n",
       "  8.900480272323064,\n",
       "  9.000601310136467,\n",
       "  9.102650478240008,\n",
       "  9.20656366039633,\n",
       "  9.290044572748501,\n",
       "  9.371310924032997,\n",
       "  9.454795377220012,\n",
       "  9.540439703402356,\n",
       "  9.628186265458599,\n",
       "  9.717978118386025,\n",
       "  9.802729532026364,\n",
       "  8.842982024032132,\n",
       "  8.937578648910732,\n",
       "  9.034237104068552,\n",
       "  9.132891925263715,\n",
       "  9.233479122385017,\n",
       "  9.335936236256499,\n",
       "  9.435820083696871,\n",
       "  9.51584157724074,\n",
       "  9.59806897835936,\n",
       "  9.682446086733426,\n",
       "  9.768917199496011,\n",
       "  9.857427209859223,\n",
       "  9.947921695695607,\n",
       "  8.972987332736,\n",
       "  9.073827747920737,\n",
       "  9.169050002372126,\n",
       "  9.266269627634331,\n",
       "  9.365424421615462,\n",
       "  9.466453575701857,\n",
       "  9.569297723647232,\n",
       "  9.661064140680432,\n",
       "  9.742065875395326,\n",
       "  9.82520644209053,\n",
       "  9.910432011663609,\n",
       "  9.997689263268326,\n",
       "  10.086925471663264,\n",
       "  9.102650478240017,\n",
       "  9.20656366039634,\n",
       "  9.304873065143125,\n",
       "  9.40068814632441,\n",
       "  9.498439840806332,\n",
       "  9.598068978359358,\n",
       "  9.699517706372099,\n",
       "  9.802729532026367,\n",
       "  9.886754464772263,\n",
       "  9.968688376905432,\n",
       "  10.052697597359575,\n",
       "  10.138730538436405,\n",
       "  10.226736126303512,\n",
       "  10.31666387850327,\n",
       "  9.23347912238502,\n",
       "  9.335936236256503,\n",
       "  9.440202382911547,\n",
       "  9.536103468179459,\n",
       "  9.632481048037265,\n",
       "  9.730737887987955,\n",
       "  9.830817639830672,\n",
       "  9.93266520171912,\n",
       "  10.032104818621105,\n",
       "  10.112861177775354,\n",
       "  10.19568252884845,\n",
       "  10.280518964338787,\n",
       "  10.367321015679405,\n",
       "  10.45603972960703,\n",
       "  9.365424421615463,\n",
       "  9.46645357570186,\n",
       "  9.569297723647235,\n",
       "  9.672473727343942,\n",
       "  9.76750581218827,\n",
       "  9.864417798079055,\n",
       "  9.963154827560418,\n",
       "  10.063663182945685,\n",
       "  10.165890326015075,\n",
       "  10.25769571419512,\n",
       "  10.339356962264457,\n",
       "  10.423024049679176,\n",
       "  9.498439840806334,\n",
       "  9.598068978359361,\n",
       "  9.699517706372102,\n",
       "  9.802729532026362,\n",
       "  9.903473903657272,\n",
       "  9.999068159801084,\n",
       "  10.096488482993948,\n",
       "  10.195682528848447,\n",
       "  10.296599035111345,\n",
       "  10.39918785625112,\n",
       "  10.483692549676471,\n",
       "  10.5662167980411,\n",
       "  9.536103468179466,\n",
       "  9.632481048037274,\n",
       "  9.730737887987964,\n",
       "  9.830817639830679,\n",
       "  9.93266520171912,\n",
       "  10.036226754624089,\n",
       "  10.134650292565164,\n",
       "  10.230779646511444,\n",
       "  10.328684074813637,\n",
       "  10.428313582650805,\n",
       "  10.529619202888778,\n",
       "  10.628662356012246,\n",
       "  10.710069627466284,\n",
       "  9.67247372734395,\n",
       "  9.767505812188277,\n",
       "  9.864417798079064,\n",
       "  9.963154827560427,\n",
       "  10.063663182945685,\n",
       "  10.165890326015075,\n",
       "  10.269784929603528,\n",
       "  10.36599110469764,\n",
       "  10.462630363560907,\n",
       "  10.56099633487755,\n",
       "  10.661041223306563,\n",
       "  10.762718209808392,\n",
       "  10.854556294298725,\n",
       "  9.80975909874692,\n",
       "  9.90347390365728,\n",
       "  9.99906815980109,\n",
       "  10.096488482993957,\n",
       "  10.195682528848447,\n",
       "  10.296599035111345,\n",
       "  10.39918785625112,\n",
       "  10.502087311997686,\n",
       "  10.597485572090145,\n",
       "  10.69461125574227,\n",
       "  10.793417729857124,\n",
       "  10.893859260606105,\n",
       "  10.995891042000508,\n",
       "  9.947921695695607,\n",
       "  10.040346998419135,\n",
       "  10.134650292565173,\n",
       "  10.23077964651145,\n",
       "  10.328684074813637,\n",
       "  10.428313582650805,\n",
       "  10.529619202888778,\n",
       "  10.632553026274705,\n",
       "  10.733215440666672,\n",
       "  10.82912384066947,\n",
       "  10.926714031963165,\n",
       "  11.02594135822425,\n",
       "  11.126762020132078,\n",
       "  9.997689263268319,\n",
       "  10.086925471663259,\n",
       "  10.178088585577443,\n",
       "  10.271127297419161,\n",
       "  10.365991104697642,\n",
       "  10.462630363560901,\n",
       "  10.560996334877546,\n",
       "  10.661041223306558,\n",
       "  10.762718209808387,\n",
       "  10.865981478053179,\n",
       "  10.964501052059633,\n",
       "  11.060896875948245,\n",
       "  11.158931086760099,\n",
       "  10.134650292565167,\n",
       "  10.226736126303505,\n",
       "  10.316663878503265,\n",
       "  10.408463973418039,\n",
       "  10.502087311997688,\n",
       "  10.59748557209014,\n",
       "  10.694611255742265,\n",
       "  10.793417729857119,\n",
       "  10.8938592606061,\n",
       "  10.995891042000505,\n",
       "  11.099469219028224,\n",
       "  11.195934386346549,\n",
       "  11.292796380085685,\n",
       "  10.069141497550099,\n",
       "  10.178088585577443,\n",
       "  10.271127297419161,\n",
       "  10.365991104697642,\n",
       "  10.45603972960703,\n",
       "  10.546626737068486,\n",
       "  10.639034314914557,\n",
       "  10.733215440666667,\n",
       "  10.829123840669464,\n",
       "  10.92671403196316,\n",
       "  11.025941358224244,\n",
       "  11.126762020132073,\n",
       "  11.229133100523017,\n",
       "  9.870006703795482,\n",
       "  10.03210481862111,\n",
       "  10.19433022663031,\n",
       "  10.356676946121777,\n",
       "  10.502087311997688,\n",
       "  10.596184548750633,\n",
       "  10.685583544903333,\n",
       "  10.776799678846707,\n",
       "  10.869787203980874,\n",
       "  10.964501052059633,\n",
       "  11.060896875948245,\n",
       "  11.158931086760099,\n",
       "  11.258560885686704,\n",
       "  9.835023937237654,\n",
       "  9.997689263268324,\n",
       "  10.160464176535353,\n",
       "  10.323343493239008,\n",
       "  10.4863223484259,\n",
       "  10.649396172072255,\n",
       "  10.812560667268063,\n",
       "  10.915352417627474,\n",
       "  11.007169524579957,\n",
       "  11.100711256655234,\n",
       "  11.195934386346549,\n",
       "  9.802729532026369,\n",
       "  9.965921986293841,\n",
       "  10.129207408019765,\n",
       "  10.292581372591835,\n",
       "  10.456039729607035,\n",
       "  10.61957858211763,\n",
       "  10.783194267719404,\n",
       "  10.946883341295647,\n",
       "  11.11064255925146,\n",
       "  11.237724164865504,\n",
       "  9.609553360545013,\n",
       "  9.773150138468178,\n",
       "  9.936828386757703,\n",
       "  10.100584144774063,\n",
       "  10.26441370280851,\n",
       "  10.428313582650812,\n",
       "  10.592280519923465,\n",
       "  10.753747674527277,\n",
       "  10.915352417627478,\n",
       "  11.077088727349132,\n",
       "  11.238950923688527,\n",
       "  9.582255478700985,\n",
       "  9.746310476225025,\n",
       "  9.907649354859727,\n",
       "  10.069141497550099,\n",
       "  10.23077964651145,\n",
       "  10.39255698912519,\n",
       "  10.554467124772865,\n",
       "  10.716504034551654,\n",
       "  10.878662053587613,\n",
       "  11.040935845693802,\n",
       "  11.203320380148034,\n",
       "  9.384542054367651,\n",
       "  9.546218286429703,\n",
       "  9.70804225851377,\n",
       "  9.870006703795482,\n",
       "  10.03210481862111,\n",
       "  10.19433022663031,\n",
       "  10.356676946121777,\n",
       "  10.51913936032918,\n",
       "  10.681712190312812,\n",
       "  10.844390470205438,\n",
       "  11.00716952457995,\n",
       "  9.347742673141193,\n",
       "  9.510044536448538,\n",
       "  9.67247372734395,\n",
       "  9.835023937237654,\n",
       "  9.997689263268324,\n",
       "  10.160464176535353,\n",
       "  10.323343493239008,\n",
       "  10.4863223484259,\n",
       "  10.639034314914554,\n",
       "  10.776799678846704,\n",
       "  10.915352417627458,\n",
       "  9.150988822650461,\n",
       "  9.313758828490736,\n",
       "  9.47664273449511,\n",
       "  9.639634766845848,\n",
       "  9.802729532026369,\n",
       "  9.965921986293841,\n",
       "  10.129207408019765,\n",
       "  10.271127297419158,\n",
       "  10.408463973418034,\n",
       "  10.546626737068483,\n",
       "  10.685583544903327,\n",
       "  10.825303819206367,\n",
       "  8.956070210711356,\n",
       "  9.119295684604836,\n",
       "  9.282621443658456,\n",
       "  9.446042285964936,\n",
       "  9.609553360545013,\n",
       "  9.767505812188269,\n",
       "  9.90347390365727,\n",
       "  10.040346998419125,\n",
       "  10.17808858557744,\n",
       "  10.31666387850326,\n",
       "  10.456039729607026,\n",
       "  10.59618454875063,\n",
       "  10.733215440666667,\n",
       "  8.92677421519803,\n",
       "  9.090525730296651,\n",
       "  9.25435925043981,\n",
       "  9.400688146324402,\n",
       "  9.536103468179457,\n",
       "  9.672473727343942,\n",
       "  9.809759098746909,\n",
       "  9.947921695695596,\n",
       "  10.086925471663253,\n",
       "  10.226736126303502,\n",
       "  10.365991104697645,\n",
       "  10.502087311997691,\n",
       "  10.63903431491455,\n",
       "  8.900480272323053,\n",
       "  9.034237104068541,\n",
       "  9.169050002372115,\n",
       "  9.304873065143113,\n",
       "  9.441662697311632,\n",
       "  9.579377492308177,\n",
       "  9.717978118386018,\n",
       "  9.857427209859216,\n",
       "  9.997689263268319,\n",
       "  10.134650292565174,\n",
       "  10.271127297419168,\n",
       "  10.408463973418046,\n",
       "  10.546626737068483,\n",
       "  8.802353158726811,\n",
       "  8.937578648910721,\n",
       "  9.073827747920726,\n",
       "  9.211055032479278,\n",
       "  9.349217429429158,\n",
       "  9.488274089268106,\n",
       "  9.628186265458593,\n",
       "  9.76750581218828,\n",
       "  9.903473903657282,\n",
       "  10.040346998419137,\n",
       "  10.17808858557745,\n",
       "  10.316663878503272,\n",
       "  10.456039729607026,\n",
       "  8.570629851258063,\n",
       "  8.706287389171019,\n",
       "  8.84298202403212,\n",
       "  8.980666399038912,\n",
       "  9.11929568460483,\n",
       "  9.258827437350392,\n",
       "  9.399221465896362,\n",
       "  9.536103468179467,\n",
       "  9.672473727343952,\n",
       "  9.809759098746921,\n",
       "  9.947921695695609,\n",
       "  10.086925471663266,\n",
       "  10.226736126303514,\n",
       "  8.339080572911667,\n",
       "  8.475190967649086,\n",
       "  8.612351943208264,\n",
       "  8.75051409736594,\n",
       "  8.889630749455872,\n",
       "  9.029657782778767,\n",
       "  9.169050002372122,\n",
       "  9.30487306514312,\n",
       "  9.441662697311639,\n",
       "  9.579377492308184,\n",
       "  9.717978118386027,\n",
       "  9.857427209859225,\n",
       "  9.997689263268327,\n",
       "  10.138730538436409,\n",
       "  8.107720234052133,\n",
       "  8.24430576891178,\n",
       "  8.381955305769647,\n",
       "  8.52061727831279,\n",
       "  8.660243055365095,\n",
       "  8.80078676434503,\n",
       "  8.937578648910728,\n",
       "  9.073827747920733,\n",
       "  9.211055032479287,\n",
       "  9.349217429429165,\n",
       "  9.488274089268115,\n",
       "  9.628186265458602,\n",
       "  9.768917199496014,\n",
       "  9.91043201166361,\n",
       "  8.013650049909344,\n",
       "  8.151811905341395,\n",
       "  8.290997194347229,\n",
       "  8.431155231178947,\n",
       "  8.570629851258072,\n",
       "  8.706287389171026,\n",
       "  8.842982024032128,\n",
       "  8.980666399038919,\n",
       "  9.11929568460484,\n",
       "  ...]]"
      ]
     },
     "execution_count": 111,
     "metadata": {},
     "output_type": "execute_result"
    }
   ],
   "source": [
    "ds"
   ]
  },
  {
   "cell_type": "code",
   "execution_count": 85,
   "id": "57076343",
   "metadata": {},
   "outputs": [
    {
     "data": {
      "text/plain": [
       "14"
      ]
     },
     "execution_count": 85,
     "metadata": {},
     "output_type": "execute_result"
    }
   ],
   "source": [
    "z0"
   ]
  },
  {
   "cell_type": "code",
   "execution_count": 87,
   "id": "ca22c048",
   "metadata": {},
   "outputs": [
    {
     "data": {
      "text/plain": [
       "[<matplotlib.lines.Line2D at 0x7fee65409a10>]"
      ]
     },
     "execution_count": 87,
     "metadata": {},
     "output_type": "execute_result"
    },
    {
     "data": {
      "image/png": "[encoded data removed]",
      "text/plain": [
       "<Figure size 432x288 with 1 Axes>"
      ]
     },
     "metadata": {
      "needs_background": "light"
     },
     "output_type": "display_data"
    }
   ],
   "source": [
    "plot(self.ncad[side][z].xb, self.ncad[side][z].yb,'.')\n",
    "plot(ys,xs,'.')"
   ]
  },
  {
   "cell_type": "code",
   "execution_count": 80,
   "id": "2d6023cc",
   "metadata": {},
   "outputs": [
    {
     "data": {
      "text/plain": [
       "[<matplotlib.lines.Line2D at 0x7fee5137f290>]"
      ]
     },
     "execution_count": 80,
     "metadata": {},
     "output_type": "execute_result"
    },
    {
     "data": {
      "image/png": "[encoded data removed]",
      "text/plain": [
       "<Figure size 432x288 with 1 Axes>"
      ]
     },
     "metadata": {
      "needs_background": "light"
     },
     "output_type": "display_data"
    }
   ],
   "source": []
  },
  {
   "cell_type": "code",
   "execution_count": 92,
   "id": "59a00998",
   "metadata": {
    "scrolled": true
   },
   "outputs": [
    {
     "data": {
      "text/plain": [
       "array([ 0.        ,  0.15438043,  0.15438043, ..., 10.56124653,\n",
       "       10.5905427 , 10.65672372])"
      ]
     },
     "execution_count": 92,
     "metadata": {},
     "output_type": "execute_result"
    }
   ],
   "source": [
    "np.unique(ds)"
   ]
  },
  {
   "cell_type": "code",
   "execution_count": 102,
   "id": "c9499c06",
   "metadata": {},
   "outputs": [
    {
     "data": {
      "image/png": "[encoded data removed]",
      "text/plain": [
       "<Figure size 432x288 with 1 Axes>"
      ]
     },
     "metadata": {
      "needs_background": "light"
     },
     "output_type": "display_data"
    }
   ],
   "source": [
    "_ = plt.hist(ds, bins=np.linspace(0,12,30))"
   ]
  },
  {
   "cell_type": "code",
   "execution_count": 100,
   "id": "d1f5c1c5",
   "metadata": {},
   "outputs": [
    {
     "data": {
      "text/plain": [
       "5.191820921404696"
      ]
     },
     "execution_count": 100,
     "metadata": {},
     "output_type": "execute_result"
    }
   ],
   "source": [
    "np.mean(ds)"
   ]
  },
  {
   "cell_type": "code",
   "execution_count": 33,
   "id": "673b8c3d",
   "metadata": {},
   "outputs": [
    {
     "data": {
      "text/plain": [
       "(512, 1024, 33)"
      ]
     },
     "execution_count": 33,
     "metadata": {},
     "output_type": "execute_result"
    }
   ],
   "source": [
    "pnmask_bool.shape"
   ]
  },
  {
   "cell_type": "code",
   "execution_count": 38,
   "id": "d2b5ba6d",
   "metadata": {},
   "outputs": [
    {
     "data": {
      "text/plain": [
       "8263"
      ]
     },
     "execution_count": 38,
     "metadata": {},
     "output_type": "execute_result"
    }
   ],
   "source": [
    "np.sum(sig)"
   ]
  },
  {
   "cell_type": "code",
   "execution_count": null,
   "id": "7b6cb3c8",
   "metadata": {},
   "outputs": [],
   "source": []
  },
  {
   "cell_type": "code",
   "execution_count": null,
   "id": "834e9a8d",
   "metadata": {},
   "outputs": [],
   "source": []
  },
  {
   "cell_type": "code",
   "execution_count": null,
   "id": "28f70eed",
   "metadata": {},
   "outputs": [],
   "source": []
  },
  {
   "cell_type": "code",
   "execution_count": null,
   "id": "c78aecc9",
   "metadata": {},
   "outputs": [],
   "source": []
  },
  {
   "cell_type": "code",
   "execution_count": 4,
   "id": "3a8ec098",
   "metadata": {},
   "outputs": [],
   "source": [
    "ch_pn = 1\n",
    "x_factor, y_factor, z_factor = 0.1431, 0.1431, 1 # micron/pixel"
   ]
  },
  {
   "cell_type": "code",
   "execution_count": 5,
   "id": "4a26e1ac",
   "metadata": {},
   "outputs": [
    {
     "name": "stdout",
     "output_type": "stream",
     "text": [
      "(350, 668, 31)\n"
     ]
    }
   ],
   "source": [
    "tif_fn = '../../1_Data/confocal/3_pn/0_analysis/'\n",
    "tif_ = tiff.imread(tif_fn)\n",
    "tif = np.swapaxes(np.swapaxes(tif_.T, 0, 1), 2,3)[:,:,:,ch_pn]\n",
    "print(tif.shape)"
   ]
  },
  {
   "cell_type": "code",
   "execution_count": 6,
   "id": "c93ba192",
   "metadata": {},
   "outputs": [],
   "source": [
    "Y, X, Z = tif.shape"
   ]
  },
  {
   "cell_type": "code",
   "execution_count": 7,
   "id": "209b07a1",
   "metadata": {},
   "outputs": [
    {
     "data": {
      "text/plain": [
       "<matplotlib.image.AxesImage at 0x7f9e19100110>"
      ]
     },
     "execution_count": 7,
     "metadata": {},
     "output_type": "execute_result"
    },
    {
     "data": {
      "image/png": "[encoded data removed]",
      "text/plain": [
       "<Figure size 432x288 with 1 Axes>"
      ]
     },
     "metadata": {
      "needs_background": "light"
     },
     "output_type": "display_data"
    }
   ],
   "source": [
    "z = 18\n",
    "imshow(tif[:,:,z])"
   ]
  },
  {
   "cell_type": "code",
   "execution_count": 8,
   "id": "18e20090",
   "metadata": {},
   "outputs": [
    {
     "name": "stdout",
     "output_type": "stream",
     "text": [
      "(350, 668, 31)\n"
     ]
    },
    {
     "data": {
      "image/png": "[encoded data removed]",
      "text/plain": [
       "<Figure size 432x288 with 1 Axes>"
      ]
     },
     "metadata": {
      "needs_background": "light"
     },
     "output_type": "display_data"
    }
   ],
   "source": [
    "almask_fn = '../my_files/docs/17E11-GFP-almask.nrrd'\n",
    "mask_, _ = nrrd.read(almask_fn)\n",
    "almask = np.swapaxes(np.swapaxes(mask_.T, 0, 1), 1, 2)\n",
    "print(almask.shape)\n",
    "imshow(almask[:,:,z])\n",
    "pic = almask[:,:,z]"
   ]
  },
  {
   "cell_type": "code",
   "execution_count": 9,
   "id": "b027a19c",
   "metadata": {},
   "outputs": [
    {
     "data": {
      "text/plain": [
       "(668, 350, 31)"
      ]
     },
     "execution_count": 9,
     "metadata": {},
     "output_type": "execute_result"
    }
   ],
   "source": [
    "mask_.shape"
   ]
  },
  {
   "cell_type": "code",
   "execution_count": 10,
   "id": "ea126beb",
   "metadata": {},
   "outputs": [
    {
     "data": {
      "text/plain": [
       "(350, 668, 31)"
      ]
     },
     "execution_count": 10,
     "metadata": {},
     "output_type": "execute_result"
    }
   ],
   "source": [
    "almask.shape"
   ]
  },
  {
   "cell_type": "code",
   "execution_count": 11,
   "id": "88470c77",
   "metadata": {},
   "outputs": [
    {
     "name": "stdout",
     "output_type": "stream",
     "text": [
      "2\n",
      "531.3490959666203 668\n",
      "127.83732057416267 668\n"
     ]
    },
    {
     "data": {
      "image/png": "[encoded data removed]",
      "text/plain": [
       "<Figure size 432x288 with 1 Axes>"
      ]
     },
     "metadata": {
      "needs_background": "light"
     },
     "output_type": "display_data"
    }
   ],
   "source": [
    "contours = measure.find_contours(pic, level=0)\n",
    "print(len(contours))\n",
    "for i in range(len(contours)):\n",
    "    ct = contours[i]\n",
    "    xb = ct[:,1]\n",
    "    yb = ct[:,0]\n",
    "    print(np.mean(xb), X)\n",
    "    plot(xb, yb)"
   ]
  },
  {
   "cell_type": "code",
   "execution_count": 14,
   "id": "d2ea03d2",
   "metadata": {},
   "outputs": [
    {
     "data": {
      "image/png": "[encoded data removed]",
      "text/plain": [
       "<Figure size 360x360 with 1 Axes>"
      ]
     },
     "metadata": {
      "needs_background": "light"
     },
     "output_type": "display_data"
    }
   ],
   "source": [
    "coeffs = im.fit_ellipse(xb, yb)\n",
    "x0, y0, ap, bp, e, phi = im.cart_to_pol(coeffs)\n",
    "# print('Fitted parameters:')\n",
    "# print('a, b, c, d, e, f =', coeffs)\n",
    "ax = ph.large_ax([5,5])\n",
    "ax.plot(xb, yb, '.')     # given points\n",
    "xf, yf = im.get_ellipse_pts((x0, y0, ap, bp, e, phi))\n",
    "ax.plot(xf, yf)\n",
    "ax.plot(x0,y0,'o')\n",
    "ax.plot(x_pnc,y_pnc,'*')\n",
    "# ax.plot(xb[idx],yb[idx],'o')\n",
    "# ax.plot(dx,dy,'^')\n",
    "ax.set_aspect('equal', 'box')"
   ]
  },
  {
   "cell_type": "code",
   "execution_count": 20,
   "id": "4cb4165a",
   "metadata": {},
   "outputs": [
    {
     "data": {
      "text/plain": [
       "(126.23579554216592,\n",
       " 191.29327448274123,\n",
       " 127.96325062999934,\n",
       " 92.14796330031186,\n",
       " 0.6938571060907697,\n",
       " 2.067732394370398)"
      ]
     },
     "execution_count": 20,
     "metadata": {},
     "output_type": "execute_result"
    }
   ],
   "source": [
    "x0, y0, ap, bp, e, phi"
   ]
  },
  {
   "cell_type": "code",
   "execution_count": 13,
   "id": "f7648ca5",
   "metadata": {},
   "outputs": [
    {
     "name": "stdout",
     "output_type": "stream",
     "text": [
      "(350, 668, 31)\n",
      "472.9651261250496 214.90233761778038 9.485013269301211\n"
     ]
    },
    {
     "data": {
      "image/png": "[encoded data removed]",
      "text/plain": [
       "<Figure size 432x288 with 1 Axes>"
      ]
     },
     "metadata": {
      "needs_background": "light"
     },
     "output_type": "display_data"
    }
   ],
   "source": [
    "pnmask_fn = '../my_files/docs/17E11-GFP-pnmask.nrrd'\n",
    "mask_, _ = nrrd.read(pnmask_fn)\n",
    "pnmask = np.swapaxes(np.swapaxes(mask_.T, 0, 1), 1, 2)\n",
    "print(pnmask.shape)\n",
    "imshow(pnmask[:,:,18])\n",
    "pic = pnmask[:,:,18]\n",
    "\n",
    "mask = (pnmask == 1)\n",
    "if mask.sum():\n",
    "    sig = tif * mask\n",
    "    sig_sum = np.sum(sig)\n",
    "    x_pnc = np.sum(np.sum(np.sum(sig, axis=0), axis=1)*np.arange(X))/sig_sum\n",
    "    y_pnc = np.sum(np.sum(np.sum(sig, axis=1), axis=1)*np.arange(Y))/sig_sum\n",
    "    z_pnc = np.sum(np.sum(np.sum(sig, axis=0), axis=0)*np.arange(Z))/sig_sum\n",
    "    print(x_pnc,y_pnc,z_pnc)"
   ]
  },
  {
   "cell_type": "markdown",
   "id": "b41f9dac",
   "metadata": {},
   "source": [
    "### Initializing object"
   ]
  },
  {
   "cell_type": "code",
   "execution_count": 7,
   "id": "9018ebd1",
   "metadata": {},
   "outputs": [
    {
     "name": "stdout",
     "output_type": "stream",
     "text": [
      "(512, 1024, 40)\n"
     ]
    }
   ],
   "source": [
    "folder = '../../1_Data/confocal/3_pn/0_analysis/'\n",
    "fn = '48_30h_DC3_2'\n",
    "rec = im.AntennaLobe(folder=folder, filename=fn, ch_pn=0)"
   ]
  },
  {
   "cell_type": "code",
   "execution_count": 33,
   "id": "0bb4e20d",
   "metadata": {},
   "outputs": [],
   "source": [
    "recs = im.get_recs_AntennaLobe(fn, folder, ch_pn=0)"
   ]
  },
  {
   "cell_type": "code",
   "execution_count": 8,
   "id": "2b1aa223",
   "metadata": {},
   "outputs": [],
   "source": [
    "pn = rec.pn[1]"
   ]
  },
  {
   "cell_type": "code",
   "execution_count": 9,
   "id": "7fe072e9",
   "metadata": {},
   "outputs": [
    {
     "data": {
      "text/plain": [
       "4.0"
      ]
     },
     "execution_count": 9,
     "metadata": {},
     "output_type": "execute_result"
    }
   ],
   "source": [
    "pn.d_toncad"
   ]
  },
  {
   "cell_type": "code",
   "execution_count": 10,
   "id": "cfa6f36b",
   "metadata": {},
   "outputs": [],
   "source": [
    "self = rec"
   ]
  },
  {
   "cell_type": "code",
   "execution_count": 24,
   "id": "5f59bf1b",
   "metadata": {},
   "outputs": [],
   "source": [
    "pnmask = self.pnmask\n",
    "for i in range(2):\n",
    "    mask = (pnmask == i+1)\n",
    "    if mask.sum():\n",
    "        sig = self.tif * mask\n",
    "        sig_sum = np.sum(sig)\n",
    "        x_pnc_p = np.sum(np.sum(np.sum(sig, axis=0), axis=1) * np.arange(self.X)) / sig_sum   # sum axis 0, leave axis 1 as X\n",
    "        y_pnc_p = np.sum(np.sum(np.sum(sig, axis=1), axis=1) * np.arange(self.Y)) / sig_sum   # sum axis 1, leave axis 0 as X\n",
    "        z_pnc_p = np.sum(np.sum(np.sum(sig, axis=0), axis=0) * np.arange(self.Z)) / sig_sum\n",
    "\n",
    "        side = 0 if (x_pnc_p < self.X/2.) else 1\n",
    "        z0_ = np.floor(z_pnc_p).astype(int)\n",
    "        z1_ = np.ceil(z_pnc_p).astype(int)\n",
    "        x_pnc = x_pnc_p * self.xf\n",
    "        y_pnc = y_pnc_p * self.yf\n",
    "        z_pnc = z_pnc_p * self.zf\n",
    "        # ncad in z0 is larger than the one in z1\n",
    "        z0, z1 = (z0_, z1_) if (self.ncad[side][z0_].ab > self.ncad[side][z1_].ab) else (z1_, z0_)\n",
    "        d0 =  np.min(np.sqrt((self.ncad[side][z0].xb-x_pnc)**2+(self.ncad[side][z0].yb-y_pnc)**2))\n",
    "        theta = np.arctan(self.zf / ((self.ncad[side][z0].ab - self.ncad[side][z1].ab)/2))\n",
    "        \n",
    "        d = np.min([d0 * np.sin(theta), (self.ncadz[side][1]-z0)*self.zf])"
   ]
  },
  {
   "cell_type": "code",
   "execution_count": 18,
   "id": "61a2776d",
   "metadata": {},
   "outputs": [
    {
     "data": {
      "text/plain": [
       "21"
      ]
     },
     "execution_count": 18,
     "metadata": {},
     "output_type": "execute_result"
    }
   ],
   "source": [
    "z0"
   ]
  },
  {
   "cell_type": "code",
   "execution_count": 20,
   "id": "076fecd4",
   "metadata": {},
   "outputs": [],
   "source": [
    "pic = self.almask[:,:,22]"
   ]
  },
  {
   "cell_type": "code",
   "execution_count": 26,
   "id": "70885aab",
   "metadata": {},
   "outputs": [
    {
     "data": {
      "text/plain": [
       "812.8011549244592"
      ]
     },
     "execution_count": 26,
     "metadata": {},
     "output_type": "execute_result"
    }
   ],
   "source": [
    "x_pnc_p"
   ]
  },
  {
   "cell_type": "code",
   "execution_count": 35,
   "id": "4b001fc0",
   "metadata": {},
   "outputs": [],
   "source": [
    "zs_inncad = self.almask[int(y_pnc_p),int(x_pnc_p),:]\n",
    "idxs = np.where(zs_inncad[z0:]==0)[0]\n",
    "if len(idxs):\n",
    "    z_out = idxs[0]+z0\n",
    "if z_out >= self.ncadz[side][1]: # pixel is within the top layer of ncad\n",
    "    d_vertical = (self.ncadz[side][1]-z0)*self.zf\n",
    "else: # pixel is outside some layer of ncad\n",
    "    d0_ = np.min(np.sqrt((self.ncad[side][z_out-1].xb-x_pnc)**2+(self.ncad[side][z_out-1].yb-y_pnc)**2))\n",
    "    tan_theta_ = self.zf / np.abs((self.ncad[side][z_out-1].ab - self.ncad[side][z_out].ab)/2)\n",
    "    d_vertical = d0_*tan_theta_ + (z_out-z0-1) * self.zf\n",
    "\n",
    "d = np.min([d0 * np.sin(theta), d_vertical])"
   ]
  },
  {
   "cell_type": "code",
   "execution_count": 36,
   "id": "37d667b0",
   "metadata": {},
   "outputs": [
    {
     "data": {
      "text/plain": [
       "4.0"
      ]
     },
     "execution_count": 36,
     "metadata": {},
     "output_type": "execute_result"
    }
   ],
   "source": [
    "d"
   ]
  },
  {
   "cell_type": "code",
   "execution_count": 34,
   "id": "f2ce7278",
   "metadata": {},
   "outputs": [
    {
     "data": {
      "text/plain": [
       "array([[ 0,  0],\n",
       "       [ 9, 25]])"
      ]
     },
     "execution_count": 34,
     "metadata": {},
     "output_type": "execute_result"
    }
   ],
   "source": [
    "self.ncadz"
   ]
  },
  {
   "cell_type": "code",
   "execution_count": 27,
   "id": "6e40dc5a",
   "metadata": {},
   "outputs": [
    {
     "data": {
      "text/plain": [
       "1"
      ]
     },
     "execution_count": 27,
     "metadata": {},
     "output_type": "execute_result"
    }
   ],
   "source": [
    "pic[int(y_pnc_p),int(x_pnc_p)]"
   ]
  },
  {
   "cell_type": "code",
   "execution_count": 19,
   "id": "7d1e89f4",
   "metadata": {},
   "outputs": [
    {
     "data": {
      "text/plain": [
       "<orn_pn_matching_imaging.Ellipse at 0x7fd1e2f44c10>"
      ]
     },
     "execution_count": 19,
     "metadata": {},
     "output_type": "execute_result"
    }
   ],
   "source": [
    "self.ncad[1][22]"
   ]
  },
  {
   "cell_type": "code",
   "execution_count": 61,
   "id": "f78aed23",
   "metadata": {
    "scrolled": true
   },
   "outputs": [
    {
     "name": "stdout",
     "output_type": "stream",
     "text": [
      "398.31950762643834\n"
     ]
    }
   ],
   "source": [
    "sig_s = np.sort(sig, axis=0)\n",
    "f0 = np.nanmean(sig_s[:int(len(sig)*.05)], axis=0)\n",
    "print(f0)\n",
    "# f0 too small"
   ]
  },
  {
   "cell_type": "code",
   "execution_count": 62,
   "id": "eebb84ea",
   "metadata": {},
   "outputs": [
    {
     "name": "stdout",
     "output_type": "stream",
     "text": [
      "2564.6201147964302\n"
     ]
    }
   ],
   "source": [
    "sig_thresh = np.nanmean(sig_s) / 2\n",
    "print(sig_thresh)"
   ]
  },
  {
   "cell_type": "code",
   "execution_count": 63,
   "id": "d4accb5b",
   "metadata": {
    "scrolled": true
   },
   "outputs": [
    {
     "data": {
      "text/plain": [
       "(array([3.3380e+03, 1.3495e+04, 1.1251e+04, 6.7570e+03, 4.7330e+03,\n",
       "        3.8430e+03, 3.2200e+03, 2.6040e+03, 2.1290e+03, 1.8880e+03,\n",
       "        1.6670e+03, 1.4560e+03, 1.2750e+03, 1.1630e+03, 9.9100e+02,\n",
       "        8.4300e+02, 7.6500e+02, 7.4800e+02, 6.1100e+02, 6.2700e+02,\n",
       "        6.0300e+02, 5.3400e+02, 4.8000e+02, 4.6100e+02, 4.6700e+02,\n",
       "        4.6800e+02, 4.1400e+02, 4.1300e+02, 3.6700e+02, 3.2800e+02,\n",
       "        3.0500e+02, 3.4600e+02, 2.8800e+02, 2.9100e+02, 2.8200e+02,\n",
       "        2.5100e+02, 2.6600e+02, 2.3300e+02, 2.2800e+02, 2.4000e+02,\n",
       "        2.5100e+02, 2.1700e+02, 2.0300e+02, 1.9300e+02, 1.8900e+02,\n",
       "        1.8800e+02, 1.5800e+02, 1.5800e+02, 1.6100e+02, 1.3800e+02,\n",
       "        1.4600e+02, 1.4400e+02, 1.2200e+02, 1.4700e+02, 1.2300e+02,\n",
       "        1.3300e+02, 1.2600e+02, 1.0800e+02, 1.0100e+02, 9.0000e+01,\n",
       "        9.5000e+01, 7.4000e+01, 6.7000e+01, 5.3000e+01, 7.0000e+01,\n",
       "        6.0000e+01, 4.8000e+01, 6.2000e+01, 4.7000e+01, 3.0000e+01,\n",
       "        2.9000e+01, 4.1000e+01, 3.3000e+01, 2.9000e+01, 3.2000e+01,\n",
       "        2.4000e+01, 2.9000e+01, 1.9000e+01, 2.0000e+01, 2.1000e+01,\n",
       "        1.3000e+01, 1.4000e+01, 1.1000e+01, 9.0000e+00, 8.0000e+00,\n",
       "        3.0000e+00, 7.0000e+00, 9.0000e+00, 2.0000e+00, 2.0000e+00,\n",
       "        2.0000e+00, 2.0000e+00, 1.0000e+00, 1.0000e+00, 3.0000e+00,\n",
       "        0.0000e+00, 2.0000e+00, 0.0000e+00, 2.0000e+00]),\n",
       " array([    0.        ,   505.05050505,  1010.1010101 ,  1515.15151515,\n",
       "         2020.2020202 ,  2525.25252525,  3030.3030303 ,  3535.35353535,\n",
       "         4040.4040404 ,  4545.45454545,  5050.50505051,  5555.55555556,\n",
       "         6060.60606061,  6565.65656566,  7070.70707071,  7575.75757576,\n",
       "         8080.80808081,  8585.85858586,  9090.90909091,  9595.95959596,\n",
       "        10101.01010101, 10606.06060606, 11111.11111111, 11616.16161616,\n",
       "        12121.21212121, 12626.26262626, 13131.31313131, 13636.36363636,\n",
       "        14141.41414141, 14646.46464646, 15151.51515152, 15656.56565657,\n",
       "        16161.61616162, 16666.66666667, 17171.71717172, 17676.76767677,\n",
       "        18181.81818182, 18686.86868687, 19191.91919192, 19696.96969697,\n",
       "        20202.02020202, 20707.07070707, 21212.12121212, 21717.17171717,\n",
       "        22222.22222222, 22727.27272727, 23232.32323232, 23737.37373737,\n",
       "        24242.42424242, 24747.47474747, 25252.52525253, 25757.57575758,\n",
       "        26262.62626263, 26767.67676768, 27272.72727273, 27777.77777778,\n",
       "        28282.82828283, 28787.87878788, 29292.92929293, 29797.97979798,\n",
       "        30303.03030303, 30808.08080808, 31313.13131313, 31818.18181818,\n",
       "        32323.23232323, 32828.28282828, 33333.33333333, 33838.38383838,\n",
       "        34343.43434343, 34848.48484848, 35353.53535354, 35858.58585859,\n",
       "        36363.63636364, 36868.68686869, 37373.73737374, 37878.78787879,\n",
       "        38383.83838384, 38888.88888889, 39393.93939394, 39898.98989899,\n",
       "        40404.04040404, 40909.09090909, 41414.14141414, 41919.19191919,\n",
       "        42424.24242424, 42929.29292929, 43434.34343434, 43939.39393939,\n",
       "        44444.44444444, 44949.49494949, 45454.54545455, 45959.5959596 ,\n",
       "        46464.64646465, 46969.6969697 , 47474.74747475, 47979.7979798 ,\n",
       "        48484.84848485, 48989.8989899 , 49494.94949495, 50000.        ]),\n",
       " <BarContainer object of 99 artists>)"
      ]
     },
     "execution_count": 63,
     "metadata": {},
     "output_type": "execute_result"
    },
    {
     "data": {
      "image/png": "[encoded data removed]",
      "text/plain": [
       "<Figure size 432x288 with 1 Axes>"
      ]
     },
     "metadata": {
      "needs_background": "light"
     },
     "output_type": "display_data"
    }
   ],
   "source": [
    "hist(sig,bins=np.linspace(0,50000,100))"
   ]
  },
  {
   "cell_type": "code",
   "execution_count": 138,
   "id": "523a67b7",
   "metadata": {},
   "outputs": [],
   "source": [
    "ds = []\n",
    "for rec in recs:\n",
    "    for side in range(2):\n",
    "        if rec.pn[side] is not None:\n",
    "            ds.append(rec.pn[side].d_toncad)"
   ]
  },
  {
   "cell_type": "code",
   "execution_count": 139,
   "id": "47e2e2f9",
   "metadata": {},
   "outputs": [
    {
     "data": {
      "text/plain": [
       "[6.776528983032412, 5.230856526751558, 7.975237299906442]"
      ]
     },
     "execution_count": 139,
     "metadata": {},
     "output_type": "execute_result"
    }
   ],
   "source": [
    "ds"
   ]
  },
  {
   "cell_type": "code",
   "execution_count": 14,
   "id": "b4e53fbb",
   "metadata": {
    "scrolled": true
   },
   "outputs": [
    {
     "data": {
      "text/plain": [
       "[5.296643291895284,\n",
       " 10.185143652065536,\n",
       " 11.954207842926001,\n",
       " 14.608968075321748,\n",
       " 15.854462909857135,\n",
       " 16.48788335553909,\n",
       " 17.01510996027559,\n",
       " 17.594996206907602,\n",
       " 18.311541165152864,\n",
       " 18.921530834282,\n",
       " 19.450266107142692,\n",
       " 20.02802003805916,\n",
       " 20.77261873243981,\n",
       " 20.740640282031272,\n",
       " 20.741427467189432,\n",
       " 20.74411937273594,\n",
       " 20.7242427072794,\n",
       " 20.781072624341185]"
      ]
     },
     "execution_count": 14,
     "metadata": {},
     "output_type": "execute_result"
    }
   ],
   "source": [
    "nl = al.ncad[0]\n",
    "a_list = []\n",
    "for z in range(len(nl)):\n",
    "    if nl[z] is not None:\n",
    "        a_list.append(nl[z].a)\n",
    "a_list"
   ]
  },
  {
   "cell_type": "code",
   "execution_count": 28,
   "id": "7f95e554",
   "metadata": {},
   "outputs": [
    {
     "data": {
      "text/plain": [
       "1.4895213748947742"
      ]
     },
     "execution_count": 28,
     "metadata": {},
     "output_type": "execute_result"
    }
   ],
   "source": [
    "al.pn[1].d_toncad"
   ]
  },
  {
   "cell_type": "code",
   "execution_count": 17,
   "id": "20ed4c3b",
   "metadata": {},
   "outputs": [
    {
     "name": "stdout",
     "output_type": "stream",
     "text": [
      "13.186373548274624 18.311541165152864\n"
     ]
    }
   ],
   "source": [
    "print(al.ncad[0][18].b, al.ncad[0][18].a)"
   ]
  },
  {
   "cell_type": "code",
   "execution_count": 18,
   "id": "509deedb",
   "metadata": {},
   "outputs": [],
   "source": [
    "al_adult = im.AntennaLobe(folder='../my_files/docs/', filename='JFRCtemplate', xyz_factors=(0.6221,0.6221,.6221),\n",
    "                          ch_pn=None)"
   ]
  },
  {
   "cell_type": "code",
   "execution_count": 19,
   "id": "d40d8f7a",
   "metadata": {},
   "outputs": [],
   "source": [
    "xf, yf, zf = 0.6221, 0.6221, 0.6221\n",
    "folder = '../my_files/docs/'\n",
    "filename = ''\n",
    "mask1, _ = nrrd.read((glob.glob(folder + os.path.sep + filename + '*pnmask1.nrrd'))[0])\n",
    "mask2, _ = nrrd.read((glob.glob(folder + os.path.sep + filename + '*pnmask2.nrrd'))[0])\n",
    "mask3, _ = nrrd.read((glob.glob(folder + os.path.sep + filename + '*pnmask3.nrrd'))[0])\n",
    "mask1 = np.swapaxes(np.swapaxes(mask1.T, 0, 1), 1, 2)\n",
    "mask2 = np.swapaxes(np.swapaxes(mask2.T, 0, 1), 1, 2)\n",
    "mask3 = np.swapaxes(np.swapaxes(mask3.T, 0, 1), 1, 2)\n",
    "inds = mask2>0\n",
    "mask2[inds] = mask2[inds] + 36\n",
    "inds = mask3>0\n",
    "mask3[inds] = mask3[inds] + 71\n",
    "pnmask = np.maximum(mask1, mask2)\n",
    "pnmask = np.maximum(pnmask, mask3)"
   ]
  },
  {
   "cell_type": "code",
   "execution_count": 20,
   "id": "16bf7880",
   "metadata": {},
   "outputs": [],
   "source": [
    "gloms = opm.glomid_list"
   ]
  },
  {
   "cell_type": "code",
   "execution_count": 21,
   "id": "d2369fa3",
   "metadata": {
    "collapsed": true
   },
   "outputs": [
    {
     "name": "stdout",
     "output_type": "stream",
     "text": [
      "0\n",
      "1\n",
      "2\n",
      "3\n",
      "4\n"
     ]
    },
    {
     "ename": "KeyboardInterrupt",
     "evalue": "",
     "output_type": "error",
     "traceback": [
      "\u001b[0;31m---------------------------------------------------------------------------\u001b[0m",
      "\u001b[0;31mKeyboardInterrupt\u001b[0m                         Traceback (most recent call last)",
      "\u001b[0;32m/var/folders/f0/npmkny_s0_7f6cbhklg7ys1r0000gn/T/ipykernel_69424/2163677864.py\u001b[0m in \u001b[0;36m<module>\u001b[0;34m\u001b[0m\n\u001b[1;32m      6\u001b[0m         \u001b[0mi_glom\u001b[0m \u001b[0;34m=\u001b[0m \u001b[0mi_pn\u001b[0m\u001b[0;34m*\u001b[0m\u001b[0;36m2\u001b[0m\u001b[0;34m+\u001b[0m\u001b[0mi\u001b[0m\u001b[0;34m\u001b[0m\u001b[0;34m\u001b[0m\u001b[0m\n\u001b[1;32m      7\u001b[0m         \u001b[0mmask\u001b[0m \u001b[0;34m=\u001b[0m \u001b[0;34m(\u001b[0m\u001b[0mpnmask\u001b[0m \u001b[0;34m==\u001b[0m \u001b[0mi_glom\u001b[0m\u001b[0;34m+\u001b[0m\u001b[0;36m1\u001b[0m\u001b[0;34m)\u001b[0m\u001b[0;34m\u001b[0m\u001b[0;34m\u001b[0m\u001b[0m\n\u001b[0;32m----> 8\u001b[0;31m         \u001b[0msig\u001b[0m \u001b[0;34m=\u001b[0m \u001b[0mmask\u001b[0m\u001b[0;34m.\u001b[0m\u001b[0mastype\u001b[0m\u001b[0;34m(\u001b[0m\u001b[0mint\u001b[0m\u001b[0;34m)\u001b[0m\u001b[0;34m\u001b[0m\u001b[0;34m\u001b[0m\u001b[0m\n\u001b[0m\u001b[1;32m      9\u001b[0m         \u001b[0msig_sum\u001b[0m \u001b[0;34m=\u001b[0m \u001b[0mnp\u001b[0m\u001b[0;34m.\u001b[0m\u001b[0msum\u001b[0m\u001b[0;34m(\u001b[0m\u001b[0msig\u001b[0m\u001b[0;34m)\u001b[0m\u001b[0;34m\u001b[0m\u001b[0;34m\u001b[0m\u001b[0m\n\u001b[1;32m     10\u001b[0m         \u001b[0mx_pnc\u001b[0m \u001b[0;34m=\u001b[0m \u001b[0mnp\u001b[0m\u001b[0;34m.\u001b[0m\u001b[0msum\u001b[0m\u001b[0;34m(\u001b[0m\u001b[0mnp\u001b[0m\u001b[0;34m.\u001b[0m\u001b[0msum\u001b[0m\u001b[0;34m(\u001b[0m\u001b[0mnp\u001b[0m\u001b[0;34m.\u001b[0m\u001b[0msum\u001b[0m\u001b[0;34m(\u001b[0m\u001b[0msig\u001b[0m\u001b[0;34m,\u001b[0m \u001b[0maxis\u001b[0m\u001b[0;34m=\u001b[0m\u001b[0;36m0\u001b[0m\u001b[0;34m)\u001b[0m\u001b[0;34m,\u001b[0m \u001b[0maxis\u001b[0m\u001b[0;34m=\u001b[0m\u001b[0;36m1\u001b[0m\u001b[0;34m)\u001b[0m \u001b[0;34m*\u001b[0m \u001b[0mnp\u001b[0m\u001b[0;34m.\u001b[0m\u001b[0marange\u001b[0m\u001b[0;34m(\u001b[0m\u001b[0mal_adult\u001b[0m\u001b[0;34m.\u001b[0m\u001b[0mX\u001b[0m\u001b[0;34m)\u001b[0m\u001b[0;34m)\u001b[0m \u001b[0;34m/\u001b[0m \u001b[0msig_sum\u001b[0m\u001b[0;34m\u001b[0m\u001b[0;34m\u001b[0m\u001b[0m\n",
      "\u001b[0;31mKeyboardInterrupt\u001b[0m: "
     ]
    }
   ],
   "source": [
    "Z = 65\n",
    "ds = np.zeros(100)\n",
    "for i_pn in range(50):\n",
    "    print(i_pn)\n",
    "    for i in range(2):\n",
    "        i_glom = i_pn*2+i\n",
    "        mask = (pnmask == i_glom+1)\n",
    "        sig = mask.astype(int)\n",
    "        sig_sum = np.sum(sig)\n",
    "        x_pnc = np.sum(np.sum(np.sum(sig, axis=0), axis=1) * np.arange(al_adult.X)) / sig_sum\n",
    "        y_pnc = np.sum(np.sum(np.sum(sig, axis=1), axis=1) * np.arange(al_adult.Y)) / sig_sum\n",
    "        sig_ = np.sum(np.sum(sig, axis=0), axis=0)[:Z]\n",
    "        z_pnc = np.sum(sig_ * np.arange(Z)) / np.sum(sig_)\n",
    "        side = 0 if (opm.glomid_list[i_glom][-1] is 'L') else 1\n",
    "        z0_ = np.floor(z_pnc).astype(int)\n",
    "        z1_ = np.ceil(z_pnc).astype(int)\n",
    "        x_pnc = x_pnc * xf\n",
    "        y_pnc = y_pnc * yf\n",
    "        z_pnc = z_pnc * zf\n",
    "        # ncad in z0 is larger than the one in z1\n",
    "#         print(z0_, z1_)\n",
    "        z0, z1 = (z0_, z1_) if (al_adult.ncad[side][z0_].ab > al_adult.ncad[side][z1_].ab) else (z1_, z0_)\n",
    "        d0 =  np.min(np.sqrt((al_adult.ncad[side][z0].xb-x_pnc)**2+(al_adult.ncad[side][z0].yb-y_pnc)**2))\n",
    "        theta = np.arctan(al_adult.zf / ((al_adult.ncad[side][z0].ab - al_adult.ncad[side][z1].ab)/2))\n",
    "        d_ = d0 * np.sin(theta)\n",
    "        ds[i_glom] = np.min([d_, (z0-al_adult.ncadz[side][0])*zf])\n",
    "        \n",
    "ds[34] = ds[32]\n",
    "ds[35] = ds[33]"
   ]
  },
  {
   "cell_type": "code",
   "execution_count": 376,
   "id": "b3fbefbe",
   "metadata": {},
   "outputs": [
    {
     "data": {
      "text/plain": [
       "[<matplotlib.lines.Line2D at 0x7ff3a3a66a50>]"
      ]
     },
     "execution_count": 376,
     "metadata": {},
     "output_type": "execute_result"
    },
    {
     "data": {
      "image/png": "[encoded data removed]",
      "text/plain": [
       "<Figure size 432x288 with 1 Axes>"
      ]
     },
     "metadata": {
      "needs_background": "light"
     },
     "output_type": "display_data"
    }
   ],
   "source": [
    "plot(ds[np.argsort(ds)])"
   ]
  },
  {
   "cell_type": "code",
   "execution_count": 355,
   "id": "c838bbee",
   "metadata": {},
   "outputs": [
    {
     "data": {
      "text/plain": [
       "14.676666267226876"
      ]
     },
     "execution_count": 355,
     "metadata": {},
     "output_type": "execute_result"
    }
   ],
   "source": [
    "ds[np.argsort(ds)][-7]"
   ]
  },
  {
   "cell_type": "code",
   "execution_count": 377,
   "id": "21394d5f",
   "metadata": {},
   "outputs": [],
   "source": [
    "glom_sort = [gloms[i] for i in np.argsort(ds)]"
   ]
  },
  {
   "cell_type": "code",
   "execution_count": 378,
   "id": "836fab9a",
   "metadata": {
    "collapsed": true
   },
   "outputs": [
    {
     "data": {
      "text/plain": [
       "['VM2_R',\n",
       " 'VA3_R',\n",
       " 'VA1d_L',\n",
       " 'DM5_L',\n",
       " 'VM6_L',\n",
       " 'VM1_R',\n",
       " 'D_R',\n",
       " 'DM4_R',\n",
       " 'DA2_L',\n",
       " 'DM6_R',\n",
       " 'VA5_L',\n",
       " 'VA3_L',\n",
       " 'VM7_L',\n",
       " 'VL2p_R',\n",
       " 'DL3_L',\n",
       " 'DL5_L',\n",
       " 'VM6_R',\n",
       " 'VM1_L',\n",
       " 'VM2_L',\n",
       " 'VA2_R',\n",
       " 'DA4m_L',\n",
       " 'DL4_L',\n",
       " 'DL1_L',\n",
       " 'V_L',\n",
       " 'VL2p_L',\n",
       " 'VM3_R',\n",
       " 'DM3_L',\n",
       " 'DM6_L',\n",
       " 'VA7l_R',\n",
       " 'VA7l_L',\n",
       " 'VA1d_R',\n",
       " 'VM3_L',\n",
       " 'DL3_R',\n",
       " 'V_R',\n",
       " 'VM5v_R',\n",
       " 'VA2_L',\n",
       " 'DA4m_R',\n",
       " 'DM2_L',\n",
       " 'DL2l_L',\n",
       " 'DA4l_R',\n",
       " 'DL2l_R',\n",
       " 'VA7m_L',\n",
       " 'VM5v_L',\n",
       " 'DM1_L',\n",
       " 'DM3_R',\n",
       " 'VA1v_R',\n",
       " 'DA1_L',\n",
       " 'VL1_R',\n",
       " 'DA3_R',\n",
       " 'DM1_R',\n",
       " 'VA4_L',\n",
       " 'DM2_R',\n",
       " 'D_L',\n",
       " 'VA5_R',\n",
       " 'VA6_R',\n",
       " 'VA7m_R',\n",
       " 'DA3_L',\n",
       " 'VC4_L',\n",
       " 'DM5_R',\n",
       " 'VA4_R',\n",
       " 'DA2_R',\n",
       " 'VA1v_L',\n",
       " 'VA6_L',\n",
       " 'VL1_L',\n",
       " 'DP1m_R',\n",
       " 'DP1l_R',\n",
       " 'DL4_R',\n",
       " 'DL1_R',\n",
       " 'VM5d_L',\n",
       " 'DA1_R',\n",
       " 'VM4_L',\n",
       " 'VM4_R',\n",
       " 'VM7_R',\n",
       " 'VL2a_L',\n",
       " 'VL2a_R',\n",
       " 'DM4_L',\n",
       " 'DP1m_L',\n",
       " 'DL5_R',\n",
       " 'DC3_R',\n",
       " 'DA4l_L',\n",
       " 'VC2_L',\n",
       " 'DC1_L',\n",
       " 'DC2_L',\n",
       " 'DP1l_L',\n",
       " 'VM5d_R',\n",
       " 'VM7v_R',\n",
       " 'VM7v_L',\n",
       " 'DL2d_L',\n",
       " 'DC2_R',\n",
       " 'DC3_L',\n",
       " 'DL2d_R',\n",
       " 'VC2_R',\n",
       " 'DC1_R',\n",
       " 'VC1_R',\n",
       " 'VC4_R',\n",
       " 'VC1_L',\n",
       " 'VC3_L',\n",
       " 'DC4_L',\n",
       " 'DC4_R',\n",
       " 'VC3_R']"
      ]
     },
     "execution_count": 378,
     "metadata": {},
     "output_type": "execute_result"
    }
   ],
   "source": [
    "glom_sort"
   ]
  },
  {
   "cell_type": "code",
   "execution_count": 367,
   "id": "dc8168d1",
   "metadata": {},
   "outputs": [],
   "source": [
    "Z = 65\n",
    "ds_test = np.zeros(100)\n",
    "i_glom = 35\n",
    "mask = (pnmask == i_glom+1)\n",
    "sig = mask.astype(int)\n",
    "sig_sum = np.sum(sig)\n",
    "x_pnc = np.sum(np.sum(np.sum(sig, axis=0), axis=1) * np.arange(al_adult.X)) / sig_sum\n",
    "y_pnc = np.sum(np.sum(np.sum(sig, axis=1), axis=1) * np.arange(al_adult.Y)) / sig_sum\n",
    "sig_ = np.sum(np.sum(sig, axis=0), axis=0)[:Z]\n",
    "z_pnc = np.sum(sig_ * np.arange(Z)) / np.sum(sig_)\n",
    "side = 0 if (opm.glomid_list[i_glom][-1] is 'L') else 1\n",
    "z0_ = np.floor(z_pnc).astype(int)\n",
    "z1_ = np.ceil(z_pnc).astype(int)\n",
    "x_pnc = x_pnc * xf\n",
    "y_pnc = y_pnc * yf\n",
    "z_pnc = z_pnc * zf\n",
    "# ncad in z0 is larger than the one in z1\n",
    "#         print(z0_, z1_)\n",
    "z0, z1 = (z0_, z1_) if (al_adult.ncad[side][z0_].ab > al_adult.ncad[side][z1_].ab) else (z1_, z0_)\n",
    "d0 =  np.min(np.sqrt((al_adult.ncad[side][z0].xb-x_pnc)**2+(al_adult.ncad[side][z0].yb-y_pnc)**2))\n",
    "theta = np.arctan(al_adult.zf / ((al_adult.ncad[side][z0].ab - al_adult.ncad[side][z1].ab)/2))\n",
    "d_ = d0 * np.sin(theta)\n",
    "ds_test[i_glom] = np.min([d_,(z0-al_adult.ncadz[side][0])*zf])"
   ]
  },
  {
   "cell_type": "code",
   "execution_count": 370,
   "id": "9af85c68",
   "metadata": {},
   "outputs": [
    {
     "data": {
      "text/plain": [
       "'DL1_R'"
      ]
     },
     "execution_count": 370,
     "metadata": {},
     "output_type": "execute_result"
    }
   ],
   "source": [
    "opm.glomid_list[32]"
   ]
  },
  {
   "cell_type": "code",
   "execution_count": 368,
   "id": "ed84a4bf",
   "metadata": {},
   "outputs": [
    {
     "data": {
      "text/plain": [
       "14.676666267226876"
      ]
     },
     "execution_count": 368,
     "metadata": {},
     "output_type": "execute_result"
    }
   ],
   "source": [
    "ds_test[35]"
   ]
  },
  {
   "cell_type": "code",
   "execution_count": 337,
   "id": "5022c3da",
   "metadata": {},
   "outputs": [
    {
     "data": {
      "text/plain": [
       "3"
      ]
     },
     "execution_count": 337,
     "metadata": {},
     "output_type": "execute_result"
    }
   ],
   "source": [
    "np.min([10,3])"
   ]
  },
  {
   "cell_type": "code",
   "execution_count": null,
   "id": "1dc7b6d2",
   "metadata": {},
   "outputs": [],
   "source": []
  },
  {
   "cell_type": "code",
   "execution_count": 222,
   "id": "af2d5b19",
   "metadata": {},
   "outputs": [
    {
     "data": {
      "image/png": "[encoded data removed]",
      "text/plain": [
       "<Figure size 360x360 with 1 Axes>"
      ]
     },
     "metadata": {
      "needs_background": "light"
     },
     "output_type": "display_data"
    }
   ],
   "source": [
    "xb, yb = el.xb, el.yb\n",
    "coeffs = im.fit_ellipse(xb, yb)\n",
    "x0, y0, ap, bp, e, phi = im.cart_to_pol(coeffs)\n",
    "# print('Fitted parameters:')\n",
    "# print('a, b, c, d, e, f =', coeffs)\n",
    "ax = ph.large_ax([5,5])\n",
    "ax.plot(xb, yb, '.')     # given points\n",
    "xf, yf = im.get_ellipse_pts((x0, y0, ap, bp, e, phi))\n",
    "ax.plot(xf, yf)\n",
    "ax.plot(x0,y0,'o')\n",
    "ax.set_aspect('equal', 'box')"
   ]
  },
  {
   "cell_type": "code",
   "execution_count": null,
   "id": "6e5c6870",
   "metadata": {},
   "outputs": [],
   "source": [
    "a ~= b ~= 35"
   ]
  },
  {
   "cell_type": "code",
   "execution_count": null,
   "id": "c89f88d3",
   "metadata": {},
   "outputs": [],
   "source": []
  },
  {
   "cell_type": "code",
   "execution_count": null,
   "id": "fc45682c",
   "metadata": {},
   "outputs": [],
   "source": []
  },
  {
   "cell_type": "code",
   "execution_count": 291,
   "id": "6a2ac5c6",
   "metadata": {},
   "outputs": [
    {
     "data": {
      "text/plain": [
       "False"
      ]
     },
     "execution_count": 291,
     "metadata": {},
     "output_type": "execute_result"
    }
   ],
   "source": [
    "opm.glomid_list[0][-1] is 'L'"
   ]
  },
  {
   "cell_type": "markdown",
   "id": "07ddd852",
   "metadata": {},
   "source": [
    "#### Numerically calculate the distance of PN center to AL"
   ]
  },
  {
   "cell_type": "code",
   "execution_count": 95,
   "id": "682a2f78",
   "metadata": {},
   "outputs": [],
   "source": [
    "def solve(semi_major, semi_minor, p):  \n",
    "    px = abs(p[0])\n",
    "    py = abs(p[1])\n",
    "\n",
    "    tx = 0.707\n",
    "    ty = 0.707\n",
    "\n",
    "    a = semi_major\n",
    "    b = semi_minor\n",
    "\n",
    "    for x in range(0,10):\n",
    "        x = a * tx\n",
    "        y = b * ty\n",
    "\n",
    "        ex = (a*a - b*b) * tx**3 / a\n",
    "        ey = (b*b - a*a) * ty**3 / b\n",
    "\n",
    "        rx = x - ex\n",
    "        ry = y - ey\n",
    "\n",
    "        qx = px - ex\n",
    "        qy = py - ey\n",
    "\n",
    "        r = math.hypot(ry, rx)\n",
    "        q = math.hypot(qy, qx)\n",
    "\n",
    "        tx = min(1, max(0, (qx * r / q + ex) / a))\n",
    "        ty = min(1, max(0, (qy * r / q + ey) / b))\n",
    "        t = math.hypot(ty, tx)\n",
    "        tx /= t \n",
    "        ty /= t \n",
    "\n",
    "    return (math.copysign(a * tx, p[0]), math.copysign(b * ty, p[1]))\n",
    "\n",
    "px = x_pnc - x0\n",
    "py = y_pnc - y0\n",
    "\n",
    "theta = -phi\n",
    "px_ = px * cos(theta) - py * sin(theta)\n",
    "py_ = px * sin(theta) + py * cos(theta)\n",
    "dx_, dy_ = solve(ap, bp, [px_, py_])\n",
    "\n",
    "theta = phi\n",
    "dx = dx_ * cos(theta) - dy_ * sin(theta) + x0\n",
    "dy = dx_ * sin(theta) + dy_ * cos(theta) + y0"
   ]
  },
  {
   "cell_type": "code",
   "execution_count": 31,
   "id": "c9d84a3b",
   "metadata": {},
   "outputs": [],
   "source": []
  },
  {
   "cell_type": "code",
   "execution_count": 112,
   "id": "dd4b0f31",
   "metadata": {},
   "outputs": [],
   "source": [
    "class t1():\n",
    "    def __init__(self, a=1):\n",
    "        self.a = 1\n",
    "        \n",
    "class t2():\n",
    "    def __init__(self, b=2):\n",
    "        self.append(t1(b))\n",
    "        self.append(t1(b+1))"
   ]
  },
  {
   "cell_type": "code",
   "execution_count": null,
   "id": "2d644c2d",
   "metadata": {},
   "outputs": [],
   "source": []
  }
 ],
 "metadata": {
  "kernelspec": {
   "display_name": "Python 3 (ipykernel)",
   "language": "python",
   "name": "python3"
  },
  "language_info": {
   "codemirror_mode": {
    "name": "ipython",
    "version": 3
   },
   "file_extension": ".py",
   "mimetype": "text/x-python",
   "name": "python",
   "nbconvert_exporter": "python",
   "pygments_lexer": "ipython3",
   "version": "3.7.11"
  }
 },
 "nbformat": 4,
 "nbformat_minor": 5
}
